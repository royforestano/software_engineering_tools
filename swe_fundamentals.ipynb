{
 "cells": [
  {
   "cell_type": "markdown",
   "metadata": {},
   "source": [
    "# Software Engineering Basics\n",
    "\n",
    "Resources redued and modified from:\n",
    "- Cracking the Coding Interview\n",
    "- Google Tech Dev Guide\n",
    "\n",
    "Draft began in April 2025"
   ]
  },
  {
   "cell_type": "markdown",
   "metadata": {},
   "source": [
    "---"
   ]
  },
  {
   "cell_type": "markdown",
   "metadata": {},
   "source": [
    "Data Structures:\n",
    "\n",
    "- Hashset/set: set()\n",
    "- Hashtabke/hashmap: {}\n",
    "- Linked List\n",
    "- Stacks\n",
    "- Queues\n",
    "- Graphs\n",
    "    - Trees\n",
    "    - Tries\n",
    "    - Graphs\n",
    "    - Heaps\n",
    "\n",
    "General operations:\n",
    "- Insertion\n",
    "- Deletion\n",
    "- Searching\n",
    "- Sorting\n",
    "\n",
    "\n",
    "Useful Native Python Functions: \n",
    "\n",
    "https://interviewkickstart.com/blogs/learn/top-python-functions\n",
    "\n",
    "- append()\n",
    "- eval()\n",
    "- getattr()\n",
    "- join()\n",
    "- lower()\n",
    "- upper()\n",
    "- max()\n",
    "- min()\n",
    "- range()\n",
    "- reduce()\n",
    "- replace()\n",
    "- round()\n",
    "- slice()\n",
    "- sort()\n",
    "- sorted()\n",
    "- split()\n",
    "- strip()\n",
    "- swapcase()\n",
    "\n",
    "Note: sort modifies in place, sorted creates a new sorted list in memory\n",
    "\n",
    "Other:\n",
    "- print()\n",
    "- abs()\n",
    "- sum()\n",
    "- len()\n",
    "- ord()\n",
    "\n",
    "Integers: immutable\n",
    "- When you pass an integer to a recursive function, a copy of the integer's value is passed.\n",
    "- Any modifications to the integer within the function only affect the copy, not the original variable in the calling scope.\n",
    "- Each recursive call operates on its own local copy of the integer\n",
    "\n",
    "Note: In essence:\n",
    "- Integers' values are copied, so changes don't persist across recursive calls.\n",
    "- Lists' references are passed, allowing modifications to be shared and reflected across calls.\n",
    "- To modify an integer in a recursive function, you would need to either return the modified value and reassign it in the calling scope, or wrap it in a mutable object. \n",
    "\n",
    "\n",
    "Lists: mutable\n",
    "- When you pass a list to a recursive function, you're passing a reference to the original list object.\n",
    "- Modifications to the list within the function directly affect the original list object in the calling scope.\n",
    "- All recursive calls that receive the list reference are interacting with the same list.\n",
    "- remove(value)\n",
    "- pop(index)\n",
    "- del list[index]\n",
    "\n",
    "Dictionaries:\n",
    "- del dict[key]\n",
    "- pop(key)\n",
    "- popitem()\n",
    "- clear()\n",
    "\n",
    "Exploring Python’s Memory Management: Behind the Scenes: \n",
    "\n",
    "https://codedamn.com/news/python/python-memory-management-behind-the-scenes \n",
    "\n",
    "What is the resizing factor of lists in Python:\n",
    "\n",
    "https://stackoverflow.com/questions/52195579/what-is-the-resizing-factor-of-lists-in-python\n",
    "\n"
   ]
  },
  {
   "cell_type": "markdown",
   "metadata": {},
   "source": [
    "## Chapter 6: Big O"
   ]
  },
  {
   "cell_type": "markdown",
   "metadata": {},
   "source": [
    "Used to escribe the efficiency of algortihms."
   ]
  },
  {
   "cell_type": "markdown",
   "metadata": {},
   "source": [
    "### Time  Complexity"
   ]
  },
  {
   "cell_type": "markdown",
   "metadata": {},
   "source": [
    "Runtime scaling.\n",
    "\n",
    "- O: Upper Bound\n",
    "- $\\Omega$: Lower bound\n",
    "- $\\Theta$: Tight bound\n",
    "\n",
    "Typically, Big O is used in industry.\n",
    "\n",
    "- Best case example\n",
    "- Worst case example\n",
    "- Expected case example\n",
    "\n",
    "These apply to different inputs or scenarios. One can provide a Big O for each."
   ]
  },
  {
   "cell_type": "markdown",
   "metadata": {},
   "source": [
    "### Space Complexity"
   ]
  },
  {
   "cell_type": "markdown",
   "metadata": {},
   "source": [
    "Memory scaling.\n",
    "\n",
    "- Array of size $n$: O(n)\n",
    "- 2D Array of Size $n\\times n$: O($n^2$)"
   ]
  },
  {
   "cell_type": "code",
   "execution_count": 6,
   "metadata": {},
   "outputs": [],
   "source": [
    "def sum_to_n(n: int):\n",
    "    if n<=0:\n",
    "        return 0\n",
    "    return n + sum_to_n(n-1)"
   ]
  },
  {
   "cell_type": "code",
   "execution_count": 7,
   "metadata": {},
   "outputs": [
    {
     "data": {
      "text/plain": [
       "15"
      ]
     },
     "execution_count": 7,
     "metadata": {},
     "output_type": "execute_result"
    }
   ],
   "source": [
    "sum_to_n(5)"
   ]
  },
  {
   "cell_type": "markdown",
   "metadata": {},
   "source": [
    "The above has O(n) time and space complexity.\n",
    "- O(n) time: $n$ calls to the sum_to_n function.\n",
    "- O(n) space: each call adds a variable to the call stack sum_to_n(5),...sum_to_n(0) which take up actual memory."
   ]
  },
  {
   "cell_type": "code",
   "execution_count": 5,
   "metadata": {},
   "outputs": [],
   "source": [
    "def pair_sum(a: int, b: int):\n",
    "    return a+b\n",
    "\n",
    "def pair_sum_sequence(n: int):\n",
    "    summ = 0 # only variable we define\n",
    "    for i in range(n):\n",
    "        summ += pair_sum(i,i+1)\n",
    "    return summ"
   ]
  },
  {
   "cell_type": "code",
   "execution_count": 6,
   "metadata": {},
   "outputs": [
    {
     "data": {
      "text/plain": [
       "9"
      ]
     },
     "execution_count": 6,
     "metadata": {},
     "output_type": "execute_result"
    }
   ],
   "source": [
    "pair_sum_sequence(3)"
   ]
  },
  {
   "cell_type": "markdown",
   "metadata": {},
   "source": [
    "The above has O(n) time complexity, but only O(1) space complexity.\n",
    "- O(n) time: $n$ calls to the pair_sum function, or $n$ iterations of the for loop.\n",
    "- O(1) space: only a single sum variable is defined. The calls do not exist simulatneously on the call stack, i.e. only need one pair_sum at a time."
   ]
  },
  {
   "cell_type": "markdown",
   "metadata": {},
   "source": [
    "- Drop additive and multiplicative constants to total complexity.\n",
    "- Drop non-dominant terms\n",
    "    - O($N^2 + N$) $\\to$ O($N^2$)\n",
    "    - O($5*2^N + 1000*N^{100}$) $\\to$ O($2^N$)\n",
    "\n",
    "When to add vs. multiply:\n",
    "\n",
    "- Add: do this, then, when finished, do this\n",
    "- Multiply: do this for each time you do that "
   ]
  },
  {
   "cell_type": "code",
   "execution_count": null,
   "metadata": {},
   "outputs": [],
   "source": [
    "# Add, O(A+B)\n",
    "def add_runtime(a: list, b: list):\n",
    "    for element_a in a:\n",
    "        print(element_a)\n",
    "    for element_b in b:\n",
    "        print(element_b)\n",
    "\n",
    "\n",
    "# Multiply, O(A*B)\n",
    "def multiply_runtime(a: list, b: list):\n",
    "    for element_a in a:\n",
    "        for element_b in b:\n",
    "            print(element_a+','+element_b)"
   ]
  },
  {
   "cell_type": "markdown",
   "metadata": {},
   "source": [
    "Amortized time\n",
    "\n",
    "- Example: ArrayList (not a Python data structure) doubles in size each time it is at capacity. To double, you must copy over the $N$ elements you started with, otherwise, you just add an element in O(1) time. This is O(N). Counting all the times you must copy 1+2+4+$\\cdots$+X/2+X = X+X/2+X/4+$\\cdots$+1 $\\approx 2X$. Therefore, the time complexity is $O(X)$. The amortized time for each adding is O(1).\n",
    "\n",
    "\n",
    "Log N Runtime\n",
    "\n",
    "- When the number of elements gets reduced by a constant multiplicative factor each time, this is an indicator of O(log N).\n",
    "- Example: Binary search of a sorted array. Start at the center with N elements. Ask, is the value greater than or less than this value. Take the remaining N/2 elements. Repeat. To fully check the array, we must repeat this $k$ times, or log N = k.\n",
    "\n",
    "    - 0. N = 1\n",
    "    - 1. N = 2\n",
    "    - 2. N = 4\n",
    "    - ...\n",
    "    - k-1. N = $2^{k-1}$\n",
    "    - k. N = $2^k$\n",
    "\n",
    "Base of the log is not important since bases of logs only alter things by a constant factor.\n",
    "\n",
    "\n",
    "Recursive runtimes\n",
    "\n",
    "If a recursive function makes multiple calls, the runtime will often, but not always, appear as O(branches $^{depth}$ ) where branches is the numnber of splits in each individual recursive call and depth is the number of recursive calls."
   ]
  },
  {
   "cell_type": "code",
   "execution_count": null,
   "metadata": {},
   "outputs": [],
   "source": [
    "# Time: O(2^N), Space: O(N)\n",
    "def recursive_2_splits(n: int):\n",
    "    if n<=1:\n",
    "        return 1\n",
    "    return recursive_2_splits(n-1) + recursive_2_splits(n-1)"
   ]
  },
  {
   "cell_type": "markdown",
   "metadata": {},
   "source": [
    "The space complexity of the above is only O(N), since although O(2^N) nodes exist is the tree, only O(N) need to be stored in memory at any given time, i.e. only one path is traversed, or exists, at a time.\n",
    "\n",
    "See examples pages 46-59. (Good ones: example 3, example 8, example 9, example 12, 13-14, 15)"
   ]
  },
  {
   "cell_type": "markdown",
   "metadata": {},
   "source": [
    "---"
   ]
  },
  {
   "cell_type": "markdown",
   "metadata": {},
   "source": [
    "## Chapter 7: Technical Questions"
   ]
  },
  {
   "cell_type": "markdown",
   "metadata": {},
   "source": [
    "How to Prepare\n",
    "\n",
    "1. Solve problems on your own, or with as little help as possible.\n",
    "2. Write the code on paper.\n",
    "3. Test your code, also on paper with base cases, general cases, error cases, and edge cases. \n",
    "4. Test your code as is into a computer. List the mistakes.\n",
    "5. Mock interviews.\n",
    "\n",
    "Data Structures\n",
    "\n",
    "- Linked Lists\n",
    "- Trees, Tries, and Graphs\n",
    "- Stacks and Queues \n",
    "- Heaps\n",
    "- Vectors, ArrayLists\n",
    "- Hash tables\n",
    "\n",
    "Algorithms\n",
    "\n",
    "- Breadth-First Search\n",
    "- Depth-First Search\n",
    "- Binary Search\n",
    "- Merge Sort\n",
    "- Quick Sort\n",
    "\n",
    "Concepts\n",
    "\n",
    "- Bit manipulation\n",
    "- Memory (Stack vs. Heap)\n",
    "- Recursion\n",
    "- Dynamic Programming\n",
    "- Big O Time and Space\n",
    "\n",
    "Practice implementing the data structures and algorithms on paper, then a computer from scratch. Understand how/when to use, how to implement, and the space and time complexity of the methods.\n",
    "\n",
    "Be familiar with the powers of 2 table for memory questions. Even have it in front of you during the interview.\n",
    "\n",
    "Procedure\n",
    "\n",
    "1. Listen carefully\n",
    "2. Draw an example\n",
    "3. State a brute force solution\n",
    "4. Optimize\n",
    "    - Look for any unsued information.\n",
    "    - Use a fresh example\n",
    "    - Solve it \"incorrectly\"\n",
    "    - Make time vs space tradeoff\n",
    "    - Precompute information\n",
    "    - Use a hash table.\n",
    "    - Think about the best conceivable runtime\n",
    "    - Look for BUD (Bottlenecks, Unnecessary work, Duplicated Work)\n",
    "5. Walk through before coding\n",
    "6. Implement\n",
    "    - Modularized code\n",
    "    - Error checks\n",
    "    - Use other classes/structs where appropriate\n",
    "    - Good variable names\n",
    "    - If confused, go back to the example and walk through it again.\n",
    "7. Test\n",
    "    - Start with a conceptual test analyzing what each line does\n",
    "    - Double check weird looking code pieces\n",
    "    - Hot spots: e.g. base cases in recursive code, integer division, null nodes in binary trees, start and end of iteration through a linked list\n",
    "    - Small test cases: first time to use an actual specific test case to test the code\n",
    "    - Special cases: test against null or single/double element values, extreme cases, and other cases\n",
    "\n",
    "Carefully analyze why a bug occurs and ensure your fix is optimal. \n"
   ]
  },
  {
   "cell_type": "markdown",
   "metadata": {},
   "source": [
    "Optimize and Solve Techniques:\n",
    "\n",
    "1. Look for BUD\n",
    "2. DIY\n",
    "3. Simplify and Generaize\n",
    "4. Base Case and Build (see permutations below)\n",
    "5. Data Structure Brainstorm"
   ]
  },
  {
   "cell_type": "code",
   "execution_count": 7,
   "metadata": {},
   "outputs": [
    {
     "data": {
      "text/plain": [
       "5"
      ]
     },
     "execution_count": 7,
     "metadata": {},
     "output_type": "execute_result"
    }
   ],
   "source": [
    "'abcabcabcabcabc'.count('abc')"
   ]
  },
  {
   "cell_type": "code",
   "execution_count": 19,
   "metadata": {},
   "outputs": [
    {
     "name": "stdout",
     "output_type": "stream",
     "text": [
      "['abc', 'abc', 'abc', 'bc', 'bc']\n"
     ]
    }
   ],
   "source": [
    "ex1= ['abc','abc','abc']+['bc','bc']\n",
    "print(ex1)"
   ]
  },
  {
   "cell_type": "code",
   "execution_count": null,
   "metadata": {},
   "outputs": [
    {
     "name": "stdout",
     "output_type": "stream",
     "text": [
      "['cba', 'bca', 'bac', 'cab', 'acb', 'abc']\n"
     ]
    }
   ],
   "source": [
    "# My solution: Time: O(N!), Space: O(N!)\n",
    "def insert_char_index(letters,value,index):\n",
    "    return letters[:index] + value + letters[index:]\n",
    "\n",
    "\n",
    "# see recursion section for recursive solution (also directly below)\n",
    "def permutations(letters: str):\n",
    "    perms = [letters[0]]\n",
    "    i=1\n",
    "    while i<len(letters):\n",
    "        char = letters[i]\n",
    "        new_perms = []\n",
    "        for perm in perms:\n",
    "            for j in range(len(perm)+1):\n",
    "                new_perms.append(insert_char_index(perm,char,j))\n",
    "        perms = new_perms\n",
    "        i+=1\n",
    "    return perms\n",
    "        \n",
    "# Example\n",
    "result = permutations('abc')\n",
    "print(result)\n",
    "    "
   ]
  },
  {
   "cell_type": "code",
   "execution_count": 7,
   "metadata": {},
   "outputs": [
    {
     "name": "stdout",
     "output_type": "stream",
     "text": [
      "['']\n",
      "p ['c']\n",
      "['c']\n",
      "p ['bc']\n",
      "['']\n",
      "p ['b']\n",
      "['b']\n",
      "p ['bc', 'cb']\n",
      "['bc', 'cb']\n",
      "p ['abc', 'acb']\n",
      "['']\n",
      "p ['c']\n",
      "['c']\n",
      "p ['ac']\n",
      "['']\n",
      "p ['a']\n",
      "['a']\n",
      "p ['ac', 'ca']\n",
      "['ac', 'ca']\n",
      "p ['abc', 'acb', 'bac', 'bca']\n",
      "['']\n",
      "p ['b']\n",
      "['b']\n",
      "p ['ab']\n",
      "['']\n",
      "p ['a']\n",
      "['a']\n",
      "p ['ab', 'ba']\n",
      "['ab', 'ba']\n",
      "p ['abc', 'acb', 'bac', 'bca', 'cab', 'cba']\n",
      "['abc', 'acb', 'bac', 'bca', 'cab', 'cba']\n"
     ]
    }
   ],
   "source": [
    "# Recursive Solution\n",
    "def get_permutations(string):\n",
    "    if len(string) == 0:\n",
    "        return [\"\"]\n",
    "    \n",
    "    permutations = []\n",
    "    for i, char in enumerate(string): # 1: 0, a 2: 0, b, 3: 0, c\n",
    "        remaining_chars = string[:i] + string[i+1:] # 1: 'bc', 2: 'c', 3: ''\n",
    "        sub_permutations = get_permutations(remaining_chars) # 1: 'bc', 2: 'c', 3: '', sub_p = '' (after 3 sent back to 2: 'bc')\n",
    "        print(sub_permutations)\n",
    "        for sub_permutation in sub_permutations:\n",
    "            permutations.append(char + sub_permutation) # 3: 'c'\n",
    "        print('p',permutations)\n",
    "    \n",
    "    return permutations\n",
    "\n",
    "# Example\n",
    "input_string = \"abc\"\n",
    "result = get_permutations(input_string)\n",
    "print(result)"
   ]
  },
  {
   "cell_type": "markdown",
   "metadata": {},
   "source": [
    "Best Conceivable Runtime (BCR)\n",
    "\n",
    "Most likely, hope for O(N) or O(N log N) algorithm. (pg. 73)\n",
    "If a method is O($N^2$), getting to O(N) or O(N log N) means reducing the seconbd O(N) to O(1) or O(log N).\n",
    "\n",
    "This is one way that BCR can be useful. We can use runtimes to get a hint for what we need to reduce.\n",
    "\n",
    "What good coding looks like\n",
    "\n",
    "- Correct\n",
    "- Efficient (cosntants in time O still have an effect and should be minimized)\n",
    "- Simple\n",
    "- Readable\n",
    "- Maintanable (sometimes sacrifrice efficiency for maintainability)\n",
    "\n",
    "Specifically,\n",
    "\n",
    "- Use data structures generously, even if creating your own\n",
    "- Appropriate code reuse\n",
    "- Modular\n",
    "- Flexible and Robust (general solution is better that specific one)\n",
    "- Error Checking (include error checks or leave space, indicate where to fill them in, and do this after finishing the rest of the code)\n",
    "\n",
    "Step up and be eager to solve a tough problem head on.\n",
    "Interviews are supposed to be hard.\n",
    "Show excitement about solving tough questions."
   ]
  },
  {
   "cell_type": "markdown",
   "metadata": {},
   "source": [
    "---"
   ]
  },
  {
   "cell_type": "markdown",
   "metadata": {},
   "source": [
    "## Chapter 9: Interview Questions"
   ]
  },
  {
   "cell_type": "markdown",
   "metadata": {},
   "source": [
    "### I. Data Structures"
   ]
  },
  {
   "cell_type": "markdown",
   "metadata": {},
   "source": [
    "#### Section 1: Arrays and Strings"
   ]
  },
  {
   "cell_type": "markdown",
   "metadata": {},
   "source": [
    "1. Hash Tables\n",
    "\n",
    "Hash Table: data structure that maps keys to values for highly efficient lookup.\n",
    "- Compute key hash code \n",
    "- Map the code to an index in the array (e.g. use function index = hash_code(key) % array_length)\n",
    "- At the index sits a linked list of keys and values (avoid collisions since can have two different keys with the same hash code or two different hash codes which map to the same index)\n",
    "- Two operations: .put(key,value), .get(key)\n",
    "- Collisions: two different keys with the same hash code or two different hash codes which map to the same index\n",
    "    - Avoid with linear probing: check for next available slot (index) in array. However, once a collison occurs, probability of another colisons in same area increase. This is called clustering. Also, worst-case insertion, deletion, and look-up times become O(n) because can be at end.\n",
    "    - Separate chaining: hash table is an array of pointers to linked lists. When collison occurs, key can be inserted inc constant time at the head of the linked list. Look-up becomes O(n/k) where k is a constant, can be significant improvement, e.g. document spell-checking.\n",
    "    - Choose good hash function to avoid collisions:\n",
    "        - make use of all info provided by the key\n",
    "        - unfiromly distributes output across tabke\n",
    "        - maps similar keys to very different hash values\n",
    "        - uses only very fast operations\n",
    "\n",
    "Lookup is O(1), since you just need to compute a key's hash code then search through the linked list for the value with a certain key, with a worst case of O(N).\n",
    "\n",
    "Alternative for lookup: balanced binary tree search O(log N) time with potentially less space. \n",
    "Iterating keys in order can also be useful."
   ]
  },
  {
   "cell_type": "code",
   "execution_count": 3,
   "metadata": {},
   "outputs": [],
   "source": [
    "hashset = set()\n",
    "hashset.add(3)\n",
    "hashset.add(2)\n",
    "hashset.add(1)\n",
    "hashset.remove(2)\n",
    "# hashset.clear()"
   ]
  },
  {
   "cell_type": "code",
   "execution_count": 20,
   "metadata": {},
   "outputs": [],
   "source": [
    "def firstUniqChar(s):\n",
    "    \"\"\"\n",
    "    :type s: str\n",
    "    :rtype: int\n",
    "    \"\"\"\n",
    "    hashmap = {}\n",
    "    for i,char in enumerate(s):\n",
    "        if char in hashmap:\n",
    "            hashmap[char][1]= hashmap[char][1]+1\n",
    "        else:\n",
    "            hashmap[char]=[i,1]\n",
    "    print(hashmap)\n",
    "    \n",
    "    for char in hashmap:\n",
    "        if hashmap[char][1]==1:\n",
    "            return hashmap[char][0]\n",
    "    \n",
    "    return -1"
   ]
  },
  {
   "cell_type": "code",
   "execution_count": 21,
   "metadata": {},
   "outputs": [
    {
     "name": "stdout",
     "output_type": "stream",
     "text": [
      "{'l': [0, 1], 'e': [1, 3], 't': [3, 1], 'c': [4, 1], 'o': [5, 1], 'd': [6, 1]}\n"
     ]
    },
    {
     "data": {
      "text/plain": [
       "0"
      ]
     },
     "execution_count": 21,
     "metadata": {},
     "output_type": "execute_result"
    }
   ],
   "source": [
    "s = 'leetcode'\n",
    "firstUniqChar(s)"
   ]
  },
  {
   "cell_type": "code",
   "execution_count": 12,
   "metadata": {},
   "outputs": [
    {
     "name": "stdout",
     "output_type": "stream",
     "text": [
      "Len: 4\n",
      "banana value 2\n",
      "grape value 7\n",
      "banana None\n",
      "New Len: 3\n"
     ]
    }
   ],
   "source": [
    "# Linked List and Hash table from scratch with attributes and callable functions\n",
    "# simple implementation of a hash table with a hash code map for keys and linked lists for storing keys and values in python\n",
    "class LinkedListNode:\n",
    "    def __init__(self, key, value):\n",
    "        self.key = key\n",
    "        self.value = value\n",
    "        self.next = None # Consecutive pointers to new nodes\n",
    "\n",
    "class HashTable:\n",
    "    def __init__(self, capacity):\n",
    "        self.capacity = capacity\n",
    "        self.table = [None] * capacity\n",
    "        self.size = 0\n",
    "\n",
    "    def __len__(self):\n",
    "        return self.size\n",
    "\n",
    "    def is_empty(self):\n",
    "        return self.size == 0\n",
    "\n",
    "    def _hash(self, key):\n",
    "        return hash(key) % self.capacity\n",
    "\n",
    "    def insert(self, key, value):\n",
    "        index = self._hash(key)\n",
    "        if self.table[index] is None:\n",
    "            self.table[index] = LinkedListNode(key, value)\n",
    "        else:\n",
    "            current = self.table[index]\n",
    "            while current.next: #.next # do we need .next here, in the search function we do not include this - starts at first element and to second to last,\n",
    "                                # do this b/c we know Linked List exists here from first if, must update current to current.next which must be non-empty\n",
    "                if current.key == key:\n",
    "                    current.value = value\n",
    "                    return\n",
    "                current = current.next\n",
    "            if current.key == key: # do we need this check with the loop above - takes into account last element\n",
    "                current.value = value\n",
    "                return\n",
    "            current.next = LinkedListNode(key, value) # cannot do current = current.next in while loop, then current = LinkedListNode(key, value) because it will break the linked chain (node needs .next attribute to point to something)\n",
    "        self.size += 1\n",
    "\n",
    "    def search(self, key):\n",
    "        index = self._hash(key)\n",
    "        current = self.table[index]\n",
    "        while current: # normal search can start at the current value\n",
    "            if current.key == key:\n",
    "                return current.value\n",
    "            current = current.next\n",
    "        return None\n",
    "\n",
    "    def delete(self, key):\n",
    "        index = self._hash(key)\n",
    "        if self.table[index] is None:\n",
    "            return\n",
    "        if self.table[index].key == key: # Do we need this - takes into account first element\n",
    "            self.table[index] = self.table[index].next\n",
    "            self.size -= 1\n",
    "            return\n",
    "        current = self.table[index]\n",
    "        while current.next: # takes into account the second and remaining elements\n",
    "            if current.next.key == key:\n",
    "                current.next = current.next.next # skip over the next key (linked node) if it is the one we need to delete, need to use .next again to point (skip) the node, cannot just use current otherwise we break the chain\n",
    "                self.size -= 1\n",
    "                return\n",
    "            current = current.next\n",
    "\n",
    "#Example usage\n",
    "hash_table = HashTable(10)\n",
    "hash_table.insert('apple', 1)\n",
    "hash_table.insert('banana', 2)\n",
    "hash_table.insert('blueberry',7)\n",
    "hash_table.insert('cherry', 3)\n",
    "\n",
    "print('Len:', len(hash_table)) # Output: 3\n",
    "print('banana value', hash_table.search('banana')) # Output: 2\n",
    "print('grape value', hash_table.search('blueberry')) # Output 7\n",
    "hash_table.delete('banana')\n",
    "print('banana', hash_table.search('banana')) # Output: None\n",
    "print('New Len:', len(hash_table)) # Output: 2\n"
   ]
  },
  {
   "cell_type": "code",
   "execution_count": 73,
   "metadata": {},
   "outputs": [
    {
     "data": {
      "text/plain": [
       "2"
      ]
     },
     "execution_count": 73,
     "metadata": {},
     "output_type": "execute_result"
    }
   ],
   "source": [
    "hash('apple')%10"
   ]
  },
  {
   "cell_type": "code",
   "execution_count": 74,
   "metadata": {},
   "outputs": [
    {
     "data": {
      "text/plain": [
       "0"
      ]
     },
     "execution_count": 74,
     "metadata": {},
     "output_type": "execute_result"
    }
   ],
   "source": [
    "hash('banana')%10"
   ]
  },
  {
   "cell_type": "code",
   "execution_count": 75,
   "metadata": {},
   "outputs": [
    {
     "data": {
      "text/plain": [
       "9"
      ]
     },
     "execution_count": 75,
     "metadata": {},
     "output_type": "execute_result"
    }
   ],
   "source": [
    "hash('blueberry')%10"
   ]
  },
  {
   "cell_type": "markdown",
   "metadata": {},
   "source": [
    "2. ArrayList and Resizeabkle Arrays\n",
    "\n",
    "Arrays: (or lists) are automatically resizeable.\n",
    "\n",
    "Typically, languages move and double the memory allocation for a list which must be resized. (Python uses a dynamic resizing with 1.125 increase factor) Each resizing takes O(n_i) time but happens so rarely that its amortized insertion time is still O(1). \n",
    "\n",
    "1: O(1) create list of size 1, add element\n",
    "2: O(1) create list of size 2, copy one element\n",
    "3: O(2) create a list of size 4, copy 2 elements\n",
    "...\n",
    "O(N/8) create a list of size N/4, copy N/8 elements\n",
    "O(N/4) create a list of size N/2, copy N/4 elements\n",
    "O(N/2) create a list of size N, copy N/2 elements\n",
    "\n",
    "N/2 + N/4 + N/8 + ... + 2 + 1 $<$ N\n",
    "\n"
   ]
  },
  {
   "cell_type": "code",
   "execution_count": null,
   "metadata": {},
   "outputs": [],
   "source": [
    "#simple implementation of a resizeable list python\n",
    "class ResizableList:\n",
    "    def __init__(self, initial_capacity=10):\n",
    "        self.capacity = initial_capacity\n",
    "        self.size = 0\n",
    "        self.data = [None] * self.capacity\n",
    "\n",
    "    def __len__(self):\n",
    "        return self.size\n",
    "    \n",
    "    def append(self, item):\n",
    "        if self.size == self.capacity:\n",
    "            self._resize(2 * self.capacity)\n",
    "        self.data[self.size] = item\n",
    "        self.size += 1\n",
    "\n",
    "    def _resize(self, new_capacity):\n",
    "        new_data = [None] * new_capacity\n",
    "        for i in range(self.size):\n",
    "            new_data[i] = self.data[i]\n",
    "        self.data = new_data\n",
    "        self.capacity = new_capacity\n",
    "\n",
    "    #############################################\n",
    "\n",
    "    def __getitem__(self, index):\n",
    "         if not 0 <= index < self.size:\n",
    "            raise IndexError(\"Index out of bounds\")\n",
    "         return self.data[index]\n",
    "\n",
    "    def __setitem__(self, index, item):\n",
    "        if not 0 <= index < self.size:\n",
    "            raise IndexError(\"Index out of bounds\")\n",
    "        self.data[index] = item\n",
    "\n",
    "    def insert(self, index, item):\n",
    "        if not 0 <= index <= self.size:\n",
    "             raise IndexError(\"Index out of bounds\")\n",
    "        if self.size == self.capacity:\n",
    "            self._resize(2 * self.capacity)\n",
    "        for i in range(self.size, index, -1):\n",
    "            self.data[i] = self.data[i-1]\n",
    "        self.data[index] = item\n",
    "        self.size += 1\n",
    "\n",
    "    def remove(self, item):\n",
    "        for i in range(self.size):\n",
    "            if self.data[i] == item:\n",
    "                self._remove_at_index(i)\n",
    "                return\n",
    "        raise ValueError(\"Item not found in list\")\n",
    "\n",
    "    def _remove_at_index(self, index):\n",
    "         if not 0 <= index < self.size:\n",
    "            raise IndexError(\"Index out of bounds\")\n",
    "         for i in range(index, self.size - 1):\n",
    "            self.data[i] = self.data[i+1]\n",
    "         self.size -= 1\n",
    "         self.data[self.size] = None\n",
    "         if self.size < self.capacity // 4 and self.capacity > 10:\n",
    "            self._resize(self.capacity // 2)\n",
    "\n",
    "    def pop(self, index = None):\n",
    "        if index is None:\n",
    "            if self.size == 0:\n",
    "                raise IndexError(\"pop from empty list\")\n",
    "            index = self.size - 1\n",
    "        if not 0 <= index < self.size:\n",
    "            raise IndexError(\"Index out of bounds\")\n",
    "        item = self.data[index]\n",
    "        self._remove_at_index(index)\n",
    "        return item\n"
   ]
  },
  {
   "cell_type": "code",
   "execution_count": 7,
   "metadata": {},
   "outputs": [
    {
     "name": "stdout",
     "output_type": "stream",
     "text": [
      "abcdef\n"
     ]
    }
   ],
   "source": [
    "# StringBuilder O(N*L+N) where N is the number of strings and L is the max length of the strings. This is vs. O(L*N^2) when using a loop sentence = '', loop, sentence += word since we have to copy L letters, 2L, ..., NL\n",
    "\n",
    "class StringBuilder:\n",
    "    def __init__(self, initial_capacity=16):\n",
    "        self._data = [''] * initial_capacity\n",
    "        self._length = 0\n",
    "        self._capacity = initial_capacity\n",
    "\n",
    "    def append(self, string):\n",
    "         if self._length == self._capacity:\n",
    "            self._resize()\n",
    "         self._data[self._length] = string\n",
    "         self._length += 1\n",
    "\n",
    "    def _resize(self):\n",
    "        self._capacity *= 2\n",
    "        new_data = [''] * self._capacity\n",
    "        for i in range(self._length):\n",
    "            new_data[i] = self._data[i]\n",
    "        self._data = new_data\n",
    "\n",
    "    def to_string(self):\n",
    "        return ''.join(self._data[:self._length])\n",
    "    \n",
    "class JoinWords:\n",
    "    def __init__(self, words: list):\n",
    "        self.sentence = StringBuilder()\n",
    "        self.strings = words\n",
    "\n",
    "    def join_words(self):\n",
    "        for word in self.strings:\n",
    "            self.sentence.append(word)\n",
    "        return self.sentence.to_string()\n",
    "\n",
    "words_to_join = JoinWords(words=['a','bc','def'])\n",
    "print(words_to_join.join_words())\n"
   ]
  },
  {
   "cell_type": "markdown",
   "metadata": {},
   "source": [
    "Interview Questions"
   ]
  },
  {
   "cell_type": "code",
   "execution_count": 26,
   "metadata": {},
   "outputs": [
    {
     "name": "stdout",
     "output_type": "stream",
     "text": [
      "False\n"
     ]
    }
   ],
   "source": [
    "# 1.1 O(N) time with a hash table and O(N) space\n",
    "class AllUnique:\n",
    "    def __init__(self, string: str):\n",
    "        self.string = string\n",
    "\n",
    "    def all_unique_char(self):\n",
    "        chars = {}\n",
    "        all_unique = True\n",
    "        i = 0\n",
    "        while i<len(self.string):\n",
    "            if self.string[i] in chars:\n",
    "                all_unique = False\n",
    "                return all_unique\n",
    "            else:\n",
    "                chars[self.string[i]] = self.string[i]\n",
    "                i+=1\n",
    "        \n",
    "        return all_unique\n",
    "    \n",
    "string = 'abcdefghijkf'\n",
    "print(AllUnique(string).all_unique_char())"
   ]
  },
  {
   "cell_type": "code",
   "execution_count": 38,
   "metadata": {},
   "outputs": [
    {
     "name": "stdout",
     "output_type": "stream",
     "text": [
      "False\n"
     ]
    }
   ],
   "source": [
    "# 1.1 O(N log N + N) time with no additional data structure and O(N) space\n",
    "class AllUnique:\n",
    "    def __init__(self, string: str):\n",
    "        self.string = string\n",
    "\n",
    "    def all_unique_char(self):\n",
    "        sorted_str = sorted(self.string) # returns a list with sorted string elements\n",
    "        i = 0 \n",
    "        while i+1<len(sorted_str):\n",
    "            if sorted_str[i+1]==sorted_str[i]:\n",
    "                return False\n",
    "            i+=1\n",
    "        return True\n",
    "\n",
    "string = 'abcdefghijkf'\n",
    "print(AllUnique(string).all_unique_char())"
   ]
  },
  {
   "cell_type": "code",
   "execution_count": 52,
   "metadata": {},
   "outputs": [
    {
     "name": "stdout",
     "output_type": "stream",
     "text": [
      "True\n"
     ]
    }
   ],
   "source": [
    "# 1.2 Two strings\n",
    "\n",
    "# 1st solution: Time: O(N log N + N), Space: O(N)\n",
    "def are_perms(string1: str, string2: str):\n",
    "    if len(string1)!=len(string2):\n",
    "        return False\n",
    "    string1_sort = sorted(string1)\n",
    "    string2_sort = sorted(string2)\n",
    "\n",
    "    if string1_sort==string2_sort:\n",
    "        return True\n",
    "    else: \n",
    "        return False\n",
    "\n",
    "# 2nd solution: Time: O(N) Space: O(N)\n",
    "def are_perms(string1: str, string2: str):\n",
    "    if len(string1)!=len(string2):\n",
    "        return False\n",
    "    \n",
    "    chars1 = {}\n",
    "    for char in string1:\n",
    "        if char not in chars1:\n",
    "            chars1[char] = 1\n",
    "        else:\n",
    "            chars1[char] +=1\n",
    "    \n",
    "    for char in string2:\n",
    "        if char not in chars1:\n",
    "            return False\n",
    "        else:\n",
    "            chars1[char]-=1\n",
    "    \n",
    "    for key in chars1:\n",
    "        if chars1[key]!=0:\n",
    "            return False\n",
    "        \n",
    "    return True\n",
    "\n",
    "\n",
    "string1 = 'abbc'\n",
    "string2 = 'cabb'\n",
    "print(are_perms(string1,string2))\n",
    "\n"
   ]
  },
  {
   "cell_type": "code",
   "execution_count": 309,
   "metadata": {},
   "outputs": [],
   "source": [
    "# 1.6 String compression\n",
    "\n",
    "def compress(chars):\n",
    "        \"\"\"\n",
    "        :type chars: List[str]\n",
    "        :rtype: int\n",
    "        \"\"\"\n",
    "        if len(chars)<2:\n",
    "            return len(chars)\n",
    "        \n",
    "        index = 0\n",
    "        string = ''\n",
    "        while index<len(chars)-1:\n",
    "            value = chars[index]\n",
    "            if chars[index+1]!=value:\n",
    "                string = string+value\n",
    "                index+=1\n",
    "            else:\n",
    "                index2 = index+1\n",
    "                while chars[index2]==value and index2<len(chars)-1:\n",
    "                    index2+=1\n",
    "                string = string+value+str(index2-index)\n",
    "                index=index2\n",
    "\n",
    "        return len(string), string"
   ]
  },
  {
   "cell_type": "code",
   "execution_count": 352,
   "metadata": {},
   "outputs": [],
   "source": [
    "def compress(chars):\n",
    "        \"\"\"\n",
    "        :type chars: List[str]\n",
    "        :rtype: int\n",
    "        \"\"\"\n",
    "        i = 0\n",
    "        res = 0\n",
    "        while i < len(chars):\n",
    "            group_length = 1\n",
    "            while (i + group_length < len(chars) and chars[i + group_length] == chars[i]):\n",
    "                group_length += 1\n",
    "            chars[res] = chars[i]\n",
    "            res += 1\n",
    "            if group_length > 1:\n",
    "                str_repr = str(group_length)\n",
    "                print(chars, res)\n",
    "                chars[res:res+len(str_repr)] = list(str_repr)\n",
    "                res += len(str_repr)\n",
    "            i += group_length\n",
    "\n",
    "        return res, chars"
   ]
  },
  {
   "cell_type": "code",
   "execution_count": 353,
   "metadata": {},
   "outputs": [
    {
     "name": "stdout",
     "output_type": "stream",
     "text": [
      "['a', 'b', 'b', 'b', 'b', 'b', 'b', 'b', 'b', 'b', 'b', 'b', 'b'] 2\n"
     ]
    },
    {
     "data": {
      "text/plain": [
       "(4, ['a', 'b', '1', '2', 'b', 'b', 'b', 'b', 'b', 'b', 'b', 'b', 'b'])"
      ]
     },
     "execution_count": 353,
     "metadata": {},
     "output_type": "execute_result"
    }
   ],
   "source": [
    "compress(chars=[\"a\",\"b\",\"b\",\"b\",\"b\",\"b\",\"b\",\"b\",\"b\",\"b\",\"b\",\"b\",\"b\"])"
   ]
  },
  {
   "cell_type": "code",
   "execution_count": 350,
   "metadata": {},
   "outputs": [],
   "source": [
    "array = [\"a\",\"b\",\"b\",\"b\",\"b\",\"b\",\"b\",\"b\",\"b\",\"b\",\"b\",\"b\",\"b\"]\n",
    "\n",
    "array[2:4]=['1','2']"
   ]
  },
  {
   "cell_type": "code",
   "execution_count": 351,
   "metadata": {},
   "outputs": [
    {
     "data": {
      "text/plain": [
       "['a', 'b', '1', '2', 'b', 'b', 'b', 'b', 'b', 'b', 'b', 'b', 'b']"
      ]
     },
     "execution_count": 351,
     "metadata": {},
     "output_type": "execute_result"
    }
   ],
   "source": [
    "array"
   ]
  },
  {
   "cell_type": "code",
   "execution_count": 354,
   "metadata": {},
   "outputs": [
    {
     "data": {
      "text/plain": [
       "True"
      ]
     },
     "execution_count": 354,
     "metadata": {},
     "output_type": "execute_result"
    }
   ],
   "source": [
    "not None"
   ]
  },
  {
   "cell_type": "markdown",
   "metadata": {},
   "source": [
    "---"
   ]
  },
  {
   "cell_type": "markdown",
   "metadata": {},
   "source": [
    "#### Section 2: Linked Lists"
   ]
  },
  {
   "cell_type": "markdown",
   "metadata": {},
   "source": [
    "Linked List: data structure that represents a sequence of nodes. \n",
    "\n",
    "- In a singly linked list, each node points to the next node in the linked list.\n",
    "- In a doubly linked list, each node points to the next node and the previous node in the linked list.\n",
    "- Circular Linked List: doubly linked list where the tail next is connected to the head, head prev connected to tail\n",
    "- No constant time access to a particular index.\n",
    "- Add and remove items from the beginning of the list in constant time.\n",
    "\n",
    "Deleting a Node from a linked list\n",
    "\n",
    "- Check for None/null pointer\n",
    "- update the head (save prev/old) or tail (skip over) pointer appropriately (pg 93)\n",
    "\n",
    "The Runner Technique\n",
    "\n",
    "- Second pointer technique, one ahead of the other\n",
    "\n",
    "Recursive Problems\n",
    "\n",
    "- Many linked-list questions rely on recursion\n",
    "- Try recursion for a linked list problem if stuck\n",
    "- recall: recursive algorithms have >=O(d = depth) space complexity\n",
    "- All recursive algorithms can be implemented iteratively, however, some can be more complex\n",
    "\n"
   ]
  },
  {
   "cell_type": "code",
   "execution_count": null,
   "metadata": {},
   "outputs": [
    {
     "name": "stdout",
     "output_type": "stream",
     "text": [
      "0\n",
      "val: 2\n",
      "next: 3\n",
      "1\n",
      "val: 3\n",
      "next: 4\n",
      "prev: 2\n",
      "2\n",
      "val: 4\n",
      "prev: 3\n"
     ]
    }
   ],
   "source": [
    "class SinglyLinkedListNode:\n",
    "    def __init__(self, value):\n",
    "        self.value = value\n",
    "        self.next = None # Consecutive pointers to new nodes\n",
    "\n",
    "    def append(self,data):\n",
    "        tail = SinglyLinkedListNode(data)\n",
    "        current = self\n",
    "        while current.next:\n",
    "            current = current.next\n",
    "        current.next = tail\n",
    "        return\n",
    "\n",
    "class DoublyLinkedListNode:\n",
    "    def __init__(self, value):\n",
    "        self.value = value\n",
    "        self.next = None # Consecutive pointers to new nodes\n",
    "        self.previous = None\n",
    "\n",
    "    def append(self,data):\n",
    "        tail = DoublyLinkedListNode(data)\n",
    "        current = self\n",
    "        while current.next:\n",
    "            current = current.next\n",
    "        current.next = tail\n",
    "        current.next.previous = current\n",
    "        return\n",
    "\n",
    "node1 = DoublyLinkedListNode(2)\n",
    "node1.append(3)\n",
    "node1.append(4)\n",
    "\n",
    "i = 0\n",
    "current = node1\n",
    "while current:\n",
    "    print(i)\n",
    "    print('val:',current.value)\n",
    "    if current.next:\n",
    "        print('next:',current.next.value)\n",
    "    if current.previous:\n",
    "        print('prev:',current.previous.value)\n",
    "    current = current.next\n",
    "    i+=1"
   ]
  },
  {
   "cell_type": "code",
   "execution_count": 95,
   "metadata": {},
   "outputs": [
    {
     "name": "stdout",
     "output_type": "stream",
     "text": [
      "Before:\n",
      "2\n",
      "3\n",
      "4\n",
      "3\n",
      "After:\n",
      "2\n",
      "3\n",
      "4\n"
     ]
    }
   ],
   "source": [
    "#2.1 O(N) time, O(N) space\n",
    "def remove_duplicates(linked_list: SinglyLinkedListNode):\n",
    "    exist = {}\n",
    "    current = linked_list\n",
    "    exist[current.value] = current.value\n",
    "    while current.next:\n",
    "        if current.next.value in exist:\n",
    "            current.next = current.next.next\n",
    "        else:\n",
    "            exist[current.next.value] = current.next.value\n",
    "            current = current.next\n",
    "    return linked_list\n",
    "\n",
    "link_list = SinglyLinkedListNode(2)\n",
    "link_list.append(3)\n",
    "link_list.append(4)\n",
    "link_list.append(3)\n",
    "print('Before:')\n",
    "current = link_list\n",
    "while current:\n",
    "    print(current.value)\n",
    "    current = current.next\n",
    "\n",
    "print('After:')\n",
    "unique_char = remove_duplicates(linked_list = link_list)\n",
    "current = unique_char\n",
    "while current:\n",
    "    print(current.value)\n",
    "    current = current.next\n"
   ]
  },
  {
   "cell_type": "code",
   "execution_count": 97,
   "metadata": {},
   "outputs": [
    {
     "name": "stdout",
     "output_type": "stream",
     "text": [
      "Before:\n",
      "2\n",
      "3\n",
      "4\n",
      "3\n",
      "After:\n",
      "2\n",
      "3\n",
      "4\n"
     ]
    }
   ],
   "source": [
    "#2.1 O(N^2) time, O(N) space\n",
    "def remove_duplicates(linked_list: SinglyLinkedListNode):\n",
    "    if linked_list is None:\n",
    "        return linked_list\n",
    "\n",
    "    current = linked_list\n",
    "    while current:\n",
    "        runner = current\n",
    "        while runner.next:\n",
    "            if runner.next.value==current.value:\n",
    "                runner.next = runner.next.next\n",
    "            else:\n",
    "                runner = runner.next\n",
    "        current = current.next\n",
    "\n",
    "    return linked_list\n",
    "\n",
    "link_list = SinglyLinkedListNode(2)\n",
    "link_list.append(3)\n",
    "link_list.append(4)\n",
    "link_list.append(3)\n",
    "\n",
    "print('Before:')\n",
    "current = link_list\n",
    "while current:\n",
    "    print(current.value)\n",
    "    current = current.next\n",
    "\n",
    "print('After:')\n",
    "unique_char = remove_duplicates(linked_list = link_list)\n",
    "current = unique_char\n",
    "while current:\n",
    "    print(current.value)\n",
    "    current = current.next"
   ]
  },
  {
   "cell_type": "code",
   "execution_count": 105,
   "metadata": {},
   "outputs": [
    {
     "name": "stdout",
     "output_type": "stream",
     "text": [
      "4\n"
     ]
    }
   ],
   "source": [
    "#2.2 O(N) time, O(N) space\n",
    "def kth_to_last(linked_list: SinglyLinkedListNode, k: int):\n",
    "    elements = []\n",
    "    current = linked_list\n",
    "    while current:\n",
    "        elements.append(current.value)\n",
    "        current = current.next\n",
    "    if k>len(elements):\n",
    "        print('k is larger than the number of elements. Reduce k.')\n",
    "        return\n",
    "    return elements[len(elements)-k]\n",
    "\n",
    "link_list = SinglyLinkedListNode(2)\n",
    "link_list.append(3)\n",
    "link_list.append(4)\n",
    "link_list.append(3)\n",
    "\n",
    "print(kth_to_last(link_list, k=2))\n"
   ]
  },
  {
   "cell_type": "code",
   "execution_count": 158,
   "metadata": {},
   "outputs": [
    {
     "name": "stdout",
     "output_type": "stream",
     "text": [
      "3\n"
     ]
    }
   ],
   "source": [
    "# 2.2 O(N) time, O(N) space\n",
    "def find_kth_to_last(linked_list: SinglyLinkedListNode, k: int, count: int):\n",
    "    if linked_list==None:\n",
    "        return None\n",
    "    \n",
    "    node = find_kth_to_last(linked_list.next, k, count)\n",
    "    count[0] += 1\n",
    "\n",
    "    if count[0]==k:\n",
    "      return linked_list\n",
    "    return node\n",
    "\n",
    "def kth_to_last(linked_list: SinglyLinkedListNode, k: int):\n",
    "    count = [0]\n",
    "    return find_kth_to_last(linked_list, k, count).value\n",
    "\n",
    "\n",
    "link_list = SinglyLinkedListNode(2)\n",
    "link_list.append(3)\n",
    "link_list.append(4)\n",
    "# link_list.append(3)\n",
    "\n",
    "print(kth_to_last(link_list, k=2))"
   ]
  },
  {
   "cell_type": "code",
   "execution_count": null,
   "metadata": {},
   "outputs": [],
   "source": [
    "# 2.3"
   ]
  },
  {
   "cell_type": "code",
   "execution_count": 388,
   "metadata": {},
   "outputs": [],
   "source": [
    "# 2.4 Partition\n",
    "class ListNode(object):\n",
    "    def __init__(self, val=0, next=None):\n",
    "        self.val = val\n",
    "        self.next = next\n",
    "\n",
    "def partition(head, x):\n",
    "    \"\"\"\n",
    "    :type head: Optional[ListNode]\n",
    "    :type x: int\n",
    "    :rtype: Optional[ListNode]\n",
    "    \"\"\"\n",
    "    if head.next is None:\n",
    "        return head\n",
    "    \n",
    "    left_head = None\n",
    "    right_head = None\n",
    "    current = head\n",
    "    while current:\n",
    "        # print(current.val)\n",
    "        # if left_head is not None:\n",
    "            # print(left_head.val)\n",
    "        if current.val<x:\n",
    "            if not left_head:\n",
    "                left_head = ListNode(current.val)\n",
    "                left = left_head\n",
    "            else:\n",
    "                left.next = ListNode(current.val)\n",
    "                left= left.next\n",
    "        else:\n",
    "            if not right_head:\n",
    "                right_head = ListNode(current.val)\n",
    "                right = right_head\n",
    "            else:\n",
    "                right.next = ListNode(current.val)\n",
    "                right = right.next\n",
    "        current = current.next\n",
    "\n",
    "    # print(right_head.val)\n",
    "    # print(left_head.val)\n",
    "    if not left and not right:\n",
    "        return None\n",
    "    elif not left:\n",
    "        left_head = right_head\n",
    "    else:\n",
    "        left.next = right_head\n",
    "    return left_head"
   ]
  },
  {
   "cell_type": "code",
   "execution_count": 389,
   "metadata": {},
   "outputs": [
    {
     "name": "stdout",
     "output_type": "stream",
     "text": [
      "1\n",
      "2\n",
      "4\n",
      "3\n",
      "5\n"
     ]
    }
   ],
   "source": [
    "#1,4,3,2,5,2]\n",
    "head = ListNode(1)\n",
    "head.next = ListNode(4)\n",
    "head.next.next = ListNode(3)\n",
    "head.next.next.next = ListNode(2)\n",
    "head.next.next.next.next = ListNode(5)\n",
    "linked_list = partition(head, 3)\n",
    "current = linked_list\n",
    "while current:\n",
    "    print(current.val)\n",
    "    current = current.next"
   ]
  },
  {
   "cell_type": "markdown",
   "metadata": {},
   "source": [
    "---"
   ]
  },
  {
   "cell_type": "markdown",
   "metadata": {},
   "source": [
    "#### Section 3: Stacks and Queues"
   ]
  },
  {
   "cell_type": "markdown",
   "metadata": {},
   "source": [
    "Stack: stack of data\n",
    "\n",
    "- Can be more favorable than an array\n",
    "- Attributes: pop(), push(item), peek(), is_empty()\n",
    "- Last-In First-Out (LIFO) ordering\n",
    "- Can be implemented with a linked-list if items are added and removed from the same side\n",
    "- Useful in recursion where you can push temporary data onto a stack as you recurse, but then remove them as you backtrack\n",
    "- Can be used to implememnt a recursive algorithm iteratively (see example below)"
   ]
  },
  {
   "cell_type": "code",
   "execution_count": 166,
   "metadata": {},
   "outputs": [
    {
     "name": "stdout",
     "output_type": "stream",
     "text": [
      "Popped element: c\n",
      "Popped element: b\n",
      "Popped element: a\n",
      "Dequeued element: a\n",
      "Dequeued element: b\n",
      "Dequeued element: c\n"
     ]
    }
   ],
   "source": [
    "# Stack implementation using a list, demonstrates LIFO\n",
    "stack = []\n",
    "stack.append('a')\n",
    "stack.append('b')\n",
    "stack.append('c')\n",
    "print('Popped element:', stack.pop()) # Output: c\n",
    "print('Popped element:', stack.pop()) # Output: b\n",
    "print('Popped element:', stack.pop()) # Output: a\n",
    "\n",
    "# Queue implementation using a list demonstrates FIFO\n",
    "queue = []\n",
    "queue.append('a')\n",
    "queue.append('b')\n",
    "queue.append('c')\n",
    "print('Dequeued element:', queue.pop(0)) # Output: a\n",
    "print('Dequeued element:', queue.pop(0)) # Output: b\n",
    "print('Dequeued element:', queue.pop(0)) # Output: c"
   ]
  },
  {
   "cell_type": "code",
   "execution_count": 187,
   "metadata": {},
   "outputs": [],
   "source": [
    "# 3.2 Stack minimun, this stack also has an operation to keep track of the minimum now. \n",
    "# We do not care about larger values added after a minimum is tracked, we use a linked list to point from a new minimum to an old one. \n",
    "# Because we pop off the end, the correct minimum will always be stored if we remove the current minimum. \n",
    "# Preferred to just use a list\n",
    "class Stack:\n",
    "    def __init__(self):\n",
    "        self.items = []\n",
    "        self.min = SinglyLinkedListNode(float('inf'))\n",
    "\n",
    "    def is_empty(self):\n",
    "        return len(self.items) == 0\n",
    "\n",
    "    def push(self, item):\n",
    "        item = SinglyLinkedListNode(item)\n",
    "        if item.value<=self.min.value:\n",
    "            old_min = self.min\n",
    "            self.min = SinglyLinkedListNode(item.value)\n",
    "            self.min.next = old_min\n",
    "            self.items.append(self.min)\n",
    "        else:\n",
    "            self.items.append(item)\n",
    "\n",
    "\n",
    "    def pop(self):\n",
    "        if not self.is_empty():\n",
    "            if self.items[-1].value==self.min.value:\n",
    "                self.min = self.items[-1].next\n",
    "            else:\n",
    "                self.items[-1] = self.item[-1].next\n",
    "            return self.items.pop()\n",
    "        else:\n",
    "            return \"Cannot pop from an empty stack\"\n",
    "\n",
    "    def peek(self):\n",
    "        if not self.is_empty():\n",
    "            return self.items[-1]\n",
    "        else:\n",
    "            return \"Stack is empty\"\n",
    "\n",
    "    def size(self):\n",
    "        return len(self.items)\n",
    "    \n",
    "    def minimum(self):\n",
    "        return self.min.value\n"
   ]
  },
  {
   "cell_type": "code",
   "execution_count": 189,
   "metadata": {},
   "outputs": [
    {
     "name": "stdout",
     "output_type": "stream",
     "text": [
      "1\n"
     ]
    }
   ],
   "source": [
    "stack = Stack()\n",
    "stack.push(5)\n",
    "stack.push(6)\n",
    "stack.push(2)\n",
    "stack.push(8)\n",
    "stack.push(3)\n",
    "stack.push(1)\n",
    "# stack.pop()\n",
    "# stack.pop()\n",
    "# stack.pop()\n",
    "# stack.pop()\n",
    "print(stack.minimum())"
   ]
  },
  {
   "cell_type": "code",
   "execution_count": null,
   "metadata": {},
   "outputs": [],
   "source": [
    "# Simple example of recursive method to an iterative one using a stack\n",
    "# O(N) time, O(N) space\n",
    "def recursive_sum(n):\n",
    "    if n <= 1:\n",
    "        return n\n",
    "    else:\n",
    "        return n + recursive_sum(n - 1)\n",
    "\n",
    "# O(N) time, O(1) space\n",
    "def iterative_sum(n):\n",
    "    stack = []\n",
    "    result = 0\n",
    "    stack.append(n)\n",
    "    while stack:\n",
    "        current = stack.pop()\n",
    "        if current <= 1:\n",
    "            result += current\n",
    "        else:\n",
    "            stack.append(current - 1)\n",
    "            result += current\n",
    "    return result\n",
    "\n",
    "print(recursive_sum(5))\n",
    "print(iterative_sum(5))"
   ]
  },
  {
   "cell_type": "markdown",
   "metadata": {},
   "source": [
    "Queue: items are removed in the same order they are added, such as when waiting in a line/queue\n",
    "\n",
    "- First-In First-Out (FIFO) ordering\n",
    "- Attributes: add(item), remove(), peek(), is_empty()\n",
    "- Can be implemented with a linked-list if items are added (back) and removed (front) from opposite sides (essentially samne thing)\n",
    "- Properly update the first and last nodes of a queue\n",
    "- Often used in breadth-first search (BFS) (e.g. use a queue to store a list of nodes to process. Process a node, add adjacent nodes to the back of the queue. Allows us to process nodes in the order in which they are viewed)\n",
    "- Often used in implementing a cache\n"
   ]
  },
  {
   "cell_type": "code",
   "execution_count": 406,
   "metadata": {},
   "outputs": [],
   "source": [
    "# Preferred to use a LinkedList, add elements to the head and remove elements to the tail.\n",
    "# See the LinkedList implementation in the Animal Shelter example below\n",
    "\n",
    "class Queue:\n",
    "    def __init__(self):\n",
    "        self.items = []\n",
    "\n",
    "    def is_empty(self):\n",
    "        return len(self.items) == 0\n",
    "\n",
    "    def enqueue(self, item):\n",
    "        self.items.append(item)\n",
    "\n",
    "    def dequeue(self):\n",
    "        if not self.is_empty():\n",
    "            return self.items.pop(0)\n",
    "        else:\n",
    "            return \"Queue is empty\"\n",
    "\n",
    "    def peek(self):\n",
    "         if not self.is_empty():\n",
    "            return self.items[0]\n",
    "         else:\n",
    "            return \"Queue is empty\"\n",
    "\n",
    "    def size(self):\n",
    "        return len(self.items)"
   ]
  },
  {
   "cell_type": "code",
   "execution_count": 402,
   "metadata": {},
   "outputs": [],
   "source": [
    "class ListNode:\n",
    "    def __init__(self,val=0,next=None,prev=None):\n",
    "        self.val = val # added number, which\n",
    "        self.next = next\n",
    "        self.prev = prev\n",
    "\n",
    "class AnimalShelterQueue():\n",
    "    def __init__(self):\n",
    "        self.dog_head = None # Should be None? Blank List node\n",
    "        self.cat_head = None\n",
    "        self.dog_queue = self.dog_head\n",
    "        self.cat_queue = self.cat_head\n",
    "        self.added = 1\n",
    "    \n",
    "    def is_empty(self):\n",
    "        return (self.dog_queue==None or self.cat_queue==None)\n",
    "    \n",
    "    def enqueue(self,is_dog=False):\n",
    "        if is_dog:\n",
    "            self.old_head = self.dog_head # save last dog_head\n",
    "            self.dog_head = ListNode(self.added) # form new dog head\n",
    "            self.dog_head.next = self.old_head # make the next element the old head which you saved\n",
    "            if self.old_head: # if the old head never existed, this is the first element and there is not previous one to record\n",
    "                self.dog_head.next.prev = self.dog_head\n",
    "            if self.dog_queue is None: # if the tail has not been formed (i.e. adding the first element), create the tail, which is where we need to pull dogs and cats from ;)\n",
    "                self.dog_queue = self.dog_head\n",
    "        else:\n",
    "            self.old_head = self.cat_head\n",
    "            self.cat_head = ListNode(self.added)\n",
    "            self.cat_head.next = self.old_head\n",
    "            if self.old_head:\n",
    "                self.cat_head.next.prev = self.cat_head\n",
    "            if self.cat_queue is None:\n",
    "                self.cat_queue = self.cat_head\n",
    "\n",
    "        self.added+=1\n",
    "\n",
    "\n",
    "    def dequeue_any(self):\n",
    "        dog_number = 0\n",
    "        cat_number = 0\n",
    "        if self.dog_queue or self.cat_queue: # check if at least one is non empty\n",
    "            if self.dog_queue: # record a catalogue number for the dog and cat at the current tail value\n",
    "                dog_number = self.dog_queue.val\n",
    "            if self.cat_queue:\n",
    "                cat_number = self.cat_queue.val\n",
    "            \n",
    "            if dog_number<cat_number: # lower number indicates the dog or cat was added further back\n",
    "                value = self.dog_queue.val # save the value at the tail\n",
    "                self.dog_queue = self.dog_queue.prev #update the current tail point\n",
    "                self.dog_queue.next = None # remove the tail element\n",
    "                return value # return the dog or cat number\n",
    "            else:\n",
    "                value = self.cat_queue.val\n",
    "                self.cat_queue = self.cat_queue.prev\n",
    "                self.cat_queue.next = None\n",
    "                return value\n",
    "        else:\n",
    "            return 'Both queues are empty.'\n",
    "            \n",
    "    def dequeue_dog(self):\n",
    "        if self.dog_queue: # same as above but we split it up for dogs and cats if the user specifies one\n",
    "            value = self.dog_queue.val\n",
    "            self.dog_queue = self.dog_queue.prev\n",
    "            self.dog_queue.next = None\n",
    "            return value\n",
    "        else:\n",
    "            'The dog queue is empty.'\n",
    "\n",
    "    def dequeue_cat(self):\n",
    "        if self.cat_queue:\n",
    "            value = self.cat_queue.val\n",
    "            self.cat_queue = self.cat_queue.prev\n",
    "            self.cat_queue.next = None\n",
    "            return value\n",
    "        else:\n",
    "            'The dog queue is empty.'\n",
    "\n",
    "\n",
    "    def peek(self,is_dog=False):\n",
    "         if is_dog:\n",
    "            if self.dog_queue:\n",
    "                return self.dog_queue.val\n",
    "            else:\n",
    "                'The dog queue is empty.'\n",
    "         else:\n",
    "            if self.cat_queue:\n",
    "                return self.cat_queue.val\n",
    "            else:\n",
    "                'The cat queue is empty.'\n",
    "\n",
    "\n"
   ]
  },
  {
   "cell_type": "code",
   "execution_count": 405,
   "metadata": {},
   "outputs": [
    {
     "name": "stdout",
     "output_type": "stream",
     "text": [
      "3\n",
      "1\n"
     ]
    }
   ],
   "source": [
    "asq = AnimalShelterQueue()\n",
    "dog_or_cat = [True,True,False,True, False, False, True, False,True]\n",
    "for boolean in dog_or_cat:\n",
    "    asq.enqueue(is_dog=boolean)\n",
    "\n",
    "print(asq.dequeue_cat())\n",
    "print(asq.dequeue_any())"
   ]
  },
  {
   "cell_type": "markdown",
   "metadata": {},
   "source": [
    "---"
   ]
  },
  {
   "cell_type": "markdown",
   "metadata": {},
   "source": [
    "#### Section 4: Trees and Graphs\n",
    "\n",
    "Tree: data structure composed of nodes\n",
    "\n",
    "- Each tree has a root node (in programming)\n",
    "- Root node has zero or more child nodes\n",
    "- Children nodes has zero or more child nodes and so on\n",
    "- Trees cannot have cycles\n",
    "- Nodes may or may not be linked to their parents\n",
    "- If a node has no children, it is a leaf node\n",
    "\n",
    "Tips\n",
    "- Can use a Tree class, however, interviews typically do not\n",
    "\n",
    "Classifications \n",
    "1. Trees vs Binary Trees\n",
    "    - Binary Tree: tree in which each node has up to two children\n",
    "    - Ternary Tree: tree in which each node has up to three children etc.\n",
    "2. Binary Tree vs. Binary Search Tree\n",
    "    - Binary search tree: binary tree where each node satisfies all left <= n < all right. (Can vary: some cannot have duplicate values, some have duplicate values on the right or either side, clarify this)\n",
    "    - Note: the inequality must be true for all descndants of each node, not just the immediate children.\n",
    "3. Balanced vs. Unbalanced\n",
    "    - Balanced Tree: not terrible imbalanced, balanced enough to ensure O(log n) times for insert and find, but could be more balanced\n",
    "    - Common Types of Balanced Trees: red-black trees, AVL trees\n",
    "4. Complete Binary Trees\n",
    "    - binary tree in which every level of the tree is fully filled except for perhaps the final level.\n",
    "    - check the extent filled from left to right\n",
    "5. Full Binary Tree\n",
    "    - binary tree in which every node has either zero or two children (no nodes have only a single child)\n",
    "6. Perfect Binary Trees\n",
    "    - binary tree in which all interior nodes have two children and all leaf nodes are at the same level\n",
    "    - Rare\n",
    "    - Perfect tree must have exactly $2^k -1$ nodes, where $k$ is the number of levels\n"
   ]
  },
  {
   "cell_type": "code",
   "execution_count": 190,
   "metadata": {},
   "outputs": [],
   "source": [
    "#This TreeNode class has a constructor that initializes the node with a name and an empty list of children. \n",
    "# The add_child method allows adding child nodes to the node's children list\n",
    "class TreeNode:\n",
    "    def __init__(self, name):\n",
    "        self.name = name\n",
    "        self.children = []\n",
    "\n",
    "    def add_child(self, child_node):\n",
    "        self.children.append(child_node)\n",
    "\n",
    "\n",
    "root = TreeNode(\"Root\")\n",
    "child1 = TreeNode(\"Child 1\")\n",
    "child2 = TreeNode(\"Child 2\")\n",
    "grandchild1 = TreeNode(\"Grandchild 1\")\n",
    "\n",
    "root.add_child(child1)\n",
    "root.add_child(child2)\n",
    "child1.add_child(grandchild1)\n"
   ]
  },
  {
   "cell_type": "markdown",
   "metadata": {},
   "source": [
    "Binary Tree"
   ]
  },
  {
   "cell_type": "code",
   "execution_count": null,
   "metadata": {},
   "outputs": [],
   "source": [
    "# Binary Tree Node\n",
    "class Node:\n",
    "    def __init__(self, data):\n",
    "        self.data = data\n",
    "        self.left = None\n",
    "        self.right = None\n",
    "\n",
    "class BinaryTree:\n",
    "    def __init__(self, value):\n",
    "        self.value = value\n",
    "        self.left_child = None\n",
    "        self.right_child = None\n",
    "\n",
    "def insert_left(self, value):\n",
    "    if self.left_child == None:\n",
    "        self.left_child = BinaryTree(value)\n",
    "    else:\n",
    "        new_node = BinaryTree(value)\n",
    "        new_node.left_child = self.left_child\n",
    "        self.left_child = new_node\n",
    "        # OR self.insert_left(value) (comment above three lines)\n",
    "\n",
    "def insert_right(self, value):\n",
    "    if self.right_child == None:\n",
    "        self.right_child = BinaryTree(value)\n",
    "    else:\n",
    "        new_node = BinaryTree(value)\n",
    "        new_node.right_child = self.right_child\n",
    "        self.right_child = new_node\n"
   ]
  },
  {
   "cell_type": "markdown",
   "metadata": {},
   "source": [
    "Binary Seach Tree\n",
    "\n",
    "Sometimes referred to as ordered, sorted binary tree"
   ]
  },
  {
   "cell_type": "code",
   "execution_count": null,
   "metadata": {},
   "outputs": [],
   "source": [
    "class BinarySearchTree:\n",
    "    def __init__(self, value):\n",
    "        self.value = value\n",
    "        self.left_child = None\n",
    "        self.right_child = None\n",
    "\n",
    "    def insert_node(self, value):\n",
    "        if value <= self.value and self.left_child:\n",
    "            self.left_child.insert_node(value)\n",
    "        elif value <= self.value:\n",
    "            self.left_child = BinarySearchTree(value)\n",
    "        elif value > self.value and self.right_child:\n",
    "            self.right_child.insert_node(value)\n",
    "        else:\n",
    "            self.right_child = BinarySearchTree(value)\n",
    "\n",
    "\n",
    "    def find_node(self, value):\n",
    "        if value < self.value and self.left_child:\n",
    "            return self.left_child.find_node(value)\n",
    "        if value > self.value and self.right_child:\n",
    "            return self.right_child.find_node(value)\n",
    "\n",
    "        return value == self.value\n",
    "    \n",
    "    def remove_node(self, value, parent):\n",
    "        if value < self.value and self.left_child:\n",
    "            return self.left_child.remove_node(value, self) # self.left_child changes self to left_child\n",
    "        elif value < self.value:\n",
    "            return False\n",
    "        elif value > self.value and self.right_child:\n",
    "            return self.right_child.remove_node(value, self)\n",
    "        elif value > self.value:\n",
    "            return False\n",
    "        else: # found value\n",
    "            if self.left_child is None and self.right_child is None and self == parent.left_child:  # no children, left child of parent\n",
    "                parent.left_child = None\n",
    "                self.clear_node() # need clear_node function\n",
    "            elif self.left_child is None and self.right_child is None and self == parent.right_child: # no children, right child of parent\n",
    "                parent.right_child = None\n",
    "                self.clear_node()\n",
    "            elif self.left_child and self.right_child is None and self == parent.left_child: # left_child only, left child of parent\n",
    "                parent.left_child = self.left_child\n",
    "                self.clear_node()\n",
    "            elif self.left_child and self.right_child is None and self == parent.right_child: # left child only, right child of parent\n",
    "                parent.right_child = self.left_child\n",
    "                self.clear_node()\n",
    "            elif self.right_child and self.left_child is None and self == parent.left_child: # right child only, left child of parent\n",
    "                parent.left_child = self.right_child\n",
    "                self.clear_node()\n",
    "            elif self.right_child and self.left_child is None and self == parent.right_child: # right child only, right child of parent\n",
    "                parent.right_child = self.right_child\n",
    "                self.clear_node()\n",
    "            else:       # left and right child, change node to minimum possible value on right (minimum value greater than all values on left)\n",
    "                self.value = self.right_child.find_minimum_value() # need find_minimum_value function\n",
    "                self.right_child.remove_node(self.value, self)  # remove that minimum value from the bottom of the right side of the tree afterwards\n",
    "\n",
    "            return True\n",
    "        \n",
    "    def clear_node(self):\n",
    "        self.value = None\n",
    "        self.left_child = None\n",
    "        self.right_child = None\n",
    "    \n",
    "    def find_minimum_value(self):\n",
    "        if self.left_child:\n",
    "            return self.left_child.find_minimum_value()\n",
    "        else:\n",
    "            return self.value\n",
    "\n",
    "    "
   ]
  },
  {
   "cell_type": "code",
   "execution_count": null,
   "metadata": {},
   "outputs": [],
   "source": [
    "bst = BinarySearchTree(15)\n",
    "bst.insert_node(10)\n",
    "bst.insert_node(8)\n",
    "bst.insert_node(12)\n",
    "bst.insert_node(20)\n",
    "bst.insert_node(17)\n",
    "bst.insert_node(25)\n",
    "bst.insert_node(19)\n",
    "\n",
    "print(bst.find_node(15)) # True\n",
    "print(bst.find_node(10)) # True\n",
    "print(bst.find_node(8)) # True\n",
    "print(bst.find_node(12)) # True\n",
    "print(bst.find_node(20)) # True\n",
    "print(bst.find_node(17)) # True\n",
    "print(bst.find_node(25)) # True\n",
    "print(bst.find_node(19)) # True\n",
    "\n",
    "print(bst.find_node(0)) # False\n",
    "\n",
    "print(bst.remove_node(8, None)) # True, node with no children\n",
    "bst.pre_order_traversal()\n",
    "\n",
    "print(bst.remove_node(17, None)) # True, node with one child\n",
    "bst.pre_order_traversal()\n",
    "\n",
    "print(bst.remove_node(15, None)) # True, node with two children\n",
    "bst.pre_order_traversal()"
   ]
  },
  {
   "cell_type": "markdown",
   "metadata": {},
   "source": [
    "Binary Tree Traversal\n",
    "\n",
    "1. In-Order Traversal: visit/print left branch, then the current node, then the right branch\n",
    "    - When the tree is a binary search one, visits the nodes in ascending order"
   ]
  },
  {
   "cell_type": "code",
   "execution_count": null,
   "metadata": {},
   "outputs": [
    {
     "name": "stdout",
     "output_type": "stream",
     "text": [
      "Inorder traversal:\n",
      "4 2 5 1 3 "
     ]
    }
   ],
   "source": [
    "# In Order traversal for binary trees\n",
    "def inorder_traversal(node):\n",
    "    if node:\n",
    "        inorder_traversal(node.left)\n",
    "        print(node.data, end=\" \")\n",
    "        inorder_traversal(node.right)\n",
    "\n",
    "# Example usage:\n",
    "root = Node(1)\n",
    "root.left = Node(2)\n",
    "root.right = Node(3)\n",
    "root.left.left = Node(4)\n",
    "root.left.right = Node(5)\n",
    "\n",
    "print(\"Inorder traversal:\")\n",
    "inorder_traversal(root)\n"
   ]
  },
  {
   "cell_type": "markdown",
   "metadata": {},
   "source": [
    "2. Pre-Order Traversal: visits/prints current node before its child nodes\n",
    "    - Root is always the first node visited"
   ]
  },
  {
   "cell_type": "code",
   "execution_count": 192,
   "metadata": {},
   "outputs": [
    {
     "name": "stdout",
     "output_type": "stream",
     "text": [
      "Pre-order traversal of binary tree is:\n",
      "1 2 4 5 3 "
     ]
    }
   ],
   "source": [
    "def preorder_traversal(node): # for bianry tree\n",
    "    if node:\n",
    "        print(node.data, end=\" \")\n",
    "        preorder_traversal(node.left)\n",
    "        preorder_traversal(node.right)\n",
    "\n",
    "if __name__ == '__main__':\n",
    "    root = Node(1)\n",
    "    root.left = Node(2)\n",
    "    root.right = Node(3)\n",
    "    root.left.left = Node(4)\n",
    "    root.left.right = Node(5)\n",
    "\n",
    "    print(\"Pre-order traversal of binary tree is:\")\n",
    "    preorder_traversal(root)"
   ]
  },
  {
   "cell_type": "markdown",
   "metadata": {},
   "source": [
    "3. Post-Order Traversal: visits/prints current node after its child nodes\n",
    "    - Root is always the last node visited"
   ]
  },
  {
   "cell_type": "code",
   "execution_count": 193,
   "metadata": {},
   "outputs": [
    {
     "name": "stdout",
     "output_type": "stream",
     "text": [
      "Post-order traversal of binary tree is:\n",
      "4 5 2 3 1 "
     ]
    }
   ],
   "source": [
    "def postorder_traversal(node): # for bina0ry tree\n",
    "    if node:\n",
    "        postorder_traversal(node.left)\n",
    "        postorder_traversal(node.right)\n",
    "        print(node.data, end=\" \")\n",
    "\n",
    "if __name__ == '__main__':\n",
    "    root = Node(1)\n",
    "    root.left = Node(2)\n",
    "    root.right = Node(3)\n",
    "    root.left.left = Node(4)\n",
    "    root.left.right = Node(5)\n",
    "\n",
    "    print(\"Post-order traversal of binary tree is:\")\n",
    "    postorder_traversal(root)"
   ]
  },
  {
   "cell_type": "markdown",
   "metadata": {},
   "source": [
    "Binary Heaps (Min-Heaps and Max-Heaps)\n",
    "\n",
    "Min-Heap: complete binary tree (totally filled other than right most elements in the last level), where each node is smaller than its children (root is minimum)\n",
    "\n",
    "Max-Heap: complete binary tree, where each node is larger than its children (root is maximum)\n",
    "\n",
    "Focus on Min-Heap here. \n",
    "\n",
    "Two key operations:\n",
    "\n",
    "- insert\n",
    "    - insert at the bottom\n",
    "    - insert at next available spot while preserving completeness by looking left to right\n",
    "    - fix the tree by swapping the new element with the parent until an appropriate location is found\n",
    "    - Bubble up a minimum\n",
    "    - Take O(log n) time where n is the number of nodes in the heap\n",
    "- extract_min\n",
    "    - at top\n",
    "    - To remove it, remove the minimum and swap it with the last element in the heap (bottommmost, rightmost element)\n",
    "    - Bubble down this element by swapping with one of its children until the min-heap property is satisfied\n",
    "    - To swap with the left or right depends: take the smaller of the two to mainatin the minimum at the root (min-heap ordering)\n",
    "    - O(log n) time"
   ]
  },
  {
   "cell_type": "code",
   "execution_count": 194,
   "metadata": {},
   "outputs": [],
   "source": [
    "class TreeNode:\n",
    "    def __init__(self, data):\n",
    "        self.data = data\n",
    "        self.left = None\n",
    "        self.right = None\n",
    "\n",
    "def min_heapify(root):\n",
    "    smallest = root\n",
    "    left = root.left\n",
    "    right = root.right\n",
    "\n",
    "    if left and left.data < smallest.data:\n",
    "        smallest = left\n",
    "    if right and right.data < smallest.data:\n",
    "        smallest = right\n",
    "    if smallest != root:\n",
    "        root.data, smallest.data = smallest.data, root.data\n",
    "        min_heapify(smallest)\n",
    "\n",
    "def max_heapify(root):\n",
    "    largest = root\n",
    "    left = root.left\n",
    "    right = root.right\n",
    "\n",
    "    if left and left.data > largest.data:\n",
    "        largest = left\n",
    "    if right and right.data > largest.data:\n",
    "        largest = right\n",
    "    if largest != root:\n",
    "        root.data, largest.data = largest.data, root.data\n",
    "        max_heapify(largest)\n",
    "\n",
    "def insert(root, data, heap_type='min'):\n",
    "    if not root:\n",
    "        return TreeNode(data)\n",
    "    if data < root.data if heap_type == 'min' else data > root.data:\n",
    "        root.left = insert(root.left, data, heap_type)\n",
    "    else:\n",
    "        root.right = insert(root.right, data, heap_type)\n",
    "    if heap_type == 'min':\n",
    "        min_heapify(root)\n",
    "    else:\n",
    "        max_heapify(root)\n",
    "    return root\n",
    "\n",
    "def build_heap(arr, heap_type='min'):\n",
    "    if not arr:\n",
    "        return None\n",
    "    root = TreeNode(arr[0])\n",
    "    for i in range(1, len(arr)):\n",
    "        insert(root, arr[i], heap_type)\n",
    "    return root\n",
    "\n",
    "def print_tree(root):\n",
    "    if root:\n",
    "        print(root.data, end=\" \")\n",
    "        print_tree(root.left)\n",
    "        print_tree(root.right)\n"
   ]
  },
  {
   "cell_type": "markdown",
   "metadata": {},
   "source": [
    "Tries (Pre-fix trees)\n",
    "\n",
    "Trie: variant of an n-ary tree in which characters are stored at each node. Each path down the tree may represent a word.\n",
    "\n",
    "- '*' nodes, or null nodes, can be used to indicate complete words (path adjacent and above forms a word)\n",
    "- Different paths, e.g. 'MA' indicate words start with MA\n",
    "- Implement with a special child, e.g. TerminatingTrieNode which inherits from TrieNode OR use a boolean flag 'terminates' within the parent node\n",
    "- Node in a trie could have anywhere from 1 through ALPHABET_SIZE+1 children (or 0 through ALPHABET_SIZE if a boolean flag is used isntead of '*' nodes)\n",
    "- Commonly, store entire (English) language for quick prefix lookups\n",
    "- Trie can tell if a string is a prefix of any valid words in O(K) time where K is the length of the string (actually same as a hash table, although typically say hash is O(1), more in this case. Hash table must go through all characters of the input which takes O(K) time for a word lookup)\n",
    "- Problems iwth a list of valid words leverage a trie as an optimization\n",
    "- Search through a tree on related prefixes repeatedly, e.g. M, MA, MAN, then MANY, pass a reference to the current node. This allows us to check if, e.g. Y is a child of MAN starting at a previously visited node rather than the root."
   ]
  },
  {
   "cell_type": "code",
   "execution_count": null,
   "metadata": {},
   "outputs": [],
   "source": [
    "class TrieNode:\n",
    "    def __init__(self):\n",
    "        self.children = {}\n",
    "        self.is_end_of_word = False\n",
    "\n",
    "class Trie:\n",
    "    def __init__(self):\n",
    "        self.root = TrieNode()\n",
    "\n",
    "    def insert(self, word):\n",
    "        node = self.root\n",
    "        for char in word:\n",
    "            if char not in node.children:\n",
    "                node.children[char] = TrieNode()\n",
    "            node = node.children[char]\n",
    "        node.is_end_of_word = True\n",
    "\n",
    "    def search(self, word):\n",
    "        node = self.root\n",
    "        for char in word:\n",
    "            if char not in node.children:\n",
    "                return False\n",
    "            node = node.children[char]\n",
    "        return node.is_end_of_word\n",
    "\n",
    "    def starts_with(self, prefix):\n",
    "         node = self.root\n",
    "         for char in prefix:\n",
    "            if char not in node.children:\n",
    "                return False\n",
    "            node = node.children[char]\n",
    "         return True\n"
   ]
  },
  {
   "cell_type": "code",
   "execution_count": null,
   "metadata": {},
   "outputs": [],
   "source": [
    "# 648 LeetCode Replace words in a sentence (string) with shortest root word (list), return new sentence\n",
    "# [a,b,c,d,e,f,g,h,i, j, k, l, m, n, o, p, q, r, s, t, u, v, w, x, y, z]\n",
    "# [1,2,3,4,5,6,7,8,9,10,11,12,13,14,15,16,17,18,19,20,21,22,23,24,25,26]\n",
    "class TrieNode:\n",
    "    def __init__(self):\n",
    "        self.isEnd = False\n",
    "        self.children = [None]*26 # number of lowercase English letters, index corresponds to letter\n",
    "\n",
    "class Trie:\n",
    "    def __init__(self):\n",
    "        self.root = TrieNode()\n",
    "    \n",
    "    def insert(self, word):\n",
    "        '''\n",
    "        Inserts a word into the Trie\n",
    "\n",
    "        '''\n",
    "        current = self.root\n",
    "        for c in word:\n",
    "            if current.children[ord(c)-ord('a')] is None:\n",
    "                current.children[ord(c)-ord('a')] = TrieNode()\n",
    "            current = current.children[ord(c)-ord('a')]\n",
    "        current.isEnd = True\n",
    "\n",
    "    def shortest_root(self, word):\n",
    "        '''\n",
    "        Finds shortest corresponding root for a given word\n",
    "\n",
    "        '''\n",
    "        current = self.root\n",
    "        for i in range(len(word)):\n",
    "            c = word[i]\n",
    "            if current.children[ord(c)-ord('a')] is None:\n",
    "                return word\n",
    "            current = current.children[ord(c)-ord('a')]\n",
    "            if current.isEnd:\n",
    "                return word[:i+1]\n",
    "\n",
    "        return word\n",
    "\n",
    "class Solution(object):\n",
    "    def replaceWords(self, dictionary, sentence):\n",
    "        \"\"\"\n",
    "        :type dictionary: List[str]\n",
    "        :type sentence: str\n",
    "        :rtype: str\n",
    "        \"\"\"\n",
    "        # N: number of words\n",
    "        # M: number of roots\n",
    "        # W: maximum length of a word\n",
    "        # R: maximum length of a root\n",
    "\n",
    "        # O(N*W) time, O(N*W) space\n",
    "        words = sentence.split()\n",
    "\n",
    "        # O(M*R) time, O(M*R) space\n",
    "        dict_trie = Trie()\n",
    "        for root in dictionary:\n",
    "            dict_trie.insert(root)\n",
    "\n",
    "        # O(N*W) time\n",
    "        for i in range(len(words)):\n",
    "            words[i] = dict_trie.shortest_root(words[i])\n",
    "\n",
    "        # O(N*W) time\n",
    "        return ' '.join(words)\n",
    "\n",
    "    \n",
    "\n",
    "# class Solution(object):\n",
    "#     def replaceWords(self, dictionary, sentence):\n",
    "#         \"\"\"\n",
    "#         :type dictionary: List[str]\n",
    "#         :type sentence: str\n",
    "#         :rtype: str\n",
    "#         \"\"\"\n",
    "#         hashset = set()\n",
    "#         for root in dictionary:\n",
    "#             hashset.add(root)\n",
    "\n",
    "#         words = []\n",
    "#         first_index = 0\n",
    "#         for i in range(len(sentence)):\n",
    "#             if sentence[i]==' ':\n",
    "#                 words.append(sentence[first_index:i])\n",
    "#                 first_index=i+1\n",
    "#             elif i==len(sentence)-1:\n",
    "#                 words.append(sentence[first_index:i+1])\n",
    "\n",
    "#         for i,word in enumerate(words):\n",
    "#             possible_root = ''\n",
    "#             for char in word:\n",
    "#                 possible_root+=char\n",
    "#                 if possible_root in hashset:\n",
    "#                     words[i]=possible_root\n",
    "#                     break # smallest root\n",
    "\n",
    "#         return ' '.join(words)"
   ]
  },
  {
   "cell_type": "markdown",
   "metadata": {},
   "source": [
    "Graphs\n",
    "\n",
    "Graph: collection of nodes and edges\n",
    "Recall: Tree: connected graph without cycles. Not all graphs are trees, but all trees are graphs.\n",
    "\n",
    "- Directed (one-way) or undirected (two-way)\n",
    "- May have multiple isolated subgraphs\n",
    "- Connected graph: path between every pair of vertices exists\n",
    "- Can have cycles (loops), Acyclic graph is one without cycles.\n",
    "- Typically, use a graph class because, unlike in a tree, you cannot necessarily reach all nodes from a single node.\n",
    "\n",
    "Representing a graph:\n",
    "1. Adjacency List: every vertex (node) stores a list of adjacent vertices. (a,b) would be stored in a's and b's adjacency lists.\n",
    "2. Adjacency matrices: N x N, where N is the number of nodes, boolean or binary matrix (True/1 at M[i][j] indicates an edge from node i to j). Undirected graph adjacency matrix is symmetric. Directed graph adjacency matrix is not necessarily."
   ]
  },
  {
   "cell_type": "code",
   "execution_count": null,
   "metadata": {},
   "outputs": [],
   "source": [
    "class Node:\n",
    "    def __init__(self, value):\n",
    "        self.value = value\n",
    "        self.neighbors = []\n",
    "\n",
    "class Graph:\n",
    "    def __init__(self):\n",
    "        self.nodes = {}\n",
    "\n",
    "    def add_node(self, value):\n",
    "        if value not in self.nodes:\n",
    "            self.nodes[value] = Node(value)\n",
    "\n",
    "    def add_edge(self, value1, value2):\n",
    "         if value1 in self.nodes and value2 in self.nodes:\n",
    "            self.nodes[value1].neighbors.append(self.nodes[value2])\n",
    "            self.nodes[value2].neighbors.append(self.nodes[value1])\n",
    "         else:\n",
    "            raise ValueError(\"One or both nodes do not exist in the graph.\")"
   ]
  },
  {
   "cell_type": "markdown",
   "metadata": {},
   "source": [
    "Graph Search\n",
    "\n",
    "1. Depth-first search (DFS)\n",
    "    - Start at root, or another arbitarily selected node\n",
    "    - Explore each branch completely before moving to next branch\n",
    "    - Go deep before going wide\n",
    "\n",
    "    - DFS is preferred to visit every node in a graph\n",
    "    - First node chooses a neighbor to explore, visit all the neighbors of that neighbor node before returning to the other neighbors of the previous node. A exhaustively searches b's branch before moving to other neighbors.\n",
    "    - Preorder for tree traversal are a form of DFS, however, because DFS is for more general graphs, we need to check if a node has already been visited to not get stuck in an infinite loop.\n",
    "    - Using recursion (as in preorder)\n",
    "\n",
    "2. Breadth-first search (BFS)\n",
    "    - Start at the root, or another arbitrarily selected node\n",
    "    - Explore all neighbors before going to any of the neighbor's children\n",
    "    - Go wide before going deep\n",
    "\n",
    "    - BFS is preferred to find the shortest path , or any path, between two nodes\n",
    "    - Searches each of node A's neighbors before visiting any of the neighbors' neighbors (searches level by level out from A)\n",
    "    - Uses interative approach with a queue (FIFO)\n",
    "\n",
    "3. Bidirectional search\n",
    "    - Used to find the shortest path between a source and destination node\n",
    "    - Run two BFS searches one from each node\n",
    "    - When the searches collide/intersect, a path can be formed by merging the two paths\n",
    "    - Note: if the graph is directed, searches forward from s and backwards from t\n",
    "\n",
    "Consider a graph where every node has at most k adjacent nodes and the shortest path from s to t has length d. BFS: O($k^d$), but BID: O($k^{d/2}$). Faster by O($k^{d/2}$)."
   ]
  },
  {
   "cell_type": "code",
   "execution_count": null,
   "metadata": {},
   "outputs": [],
   "source": [
    "class Node:\n",
    "    def __init__(self, data):\n",
    "        self.data = data\n",
    "        self.neighbors = []\n",
    "        self.visited = False\n",
    "\n",
    "def dfs(node):\n",
    "    if node is None:\n",
    "        return\n",
    "    \n",
    "    node.visited = True\n",
    "    print(node.data, end=\" \")\n",
    "\n",
    "    for neighbor in node.neighbors:\n",
    "        if not neighbor.visited:\n",
    "            dfs(neighbor)\n",
    "\n",
    "# Example graph\n",
    "node_a = Node('A')\n",
    "node_b = Node('B')\n",
    "node_c = Node('C')\n",
    "node_d = Node('D')\n",
    "\n",
    "node_a.neighbors = [node_b, node_c]\n",
    "node_b.neighbors = [node_d]\n",
    "\n",
    "# Perform DFS starting from node A\n",
    "print(\"DFS traversal:\")\n",
    "dfs(node_a)"
   ]
  },
  {
   "cell_type": "code",
   "execution_count": 409,
   "metadata": {},
   "outputs": [
    {
     "name": "stdout",
     "output_type": "stream",
     "text": [
      "BFS traversal starting from node A:\n",
      "A "
     ]
    }
   ],
   "source": [
    "class Node:\n",
    "    def __init__(self, data):\n",
    "        self.data = data\n",
    "        self.adjacent = []\n",
    "        self.marked = False\n",
    "\n",
    "def bfs_iterative(start_node):\n",
    "    if start_node is None:\n",
    "        return\n",
    "    \n",
    "    queue = Queue()\n",
    "    start_node.marked = True\n",
    "    queue.enqueue(start_node) \n",
    "\n",
    "    while not queue.is_empty():\n",
    "        current_node = queue.dequeue()\n",
    "        print(current_node.data, end=\" \") # print or check some condition\n",
    "\n",
    "        for neighbor in current_node.adjacent:\n",
    "            if neighbor.marked == False:\n",
    "                # print or check some condition, do not have to put here, if you just check every time you dequeue instead\n",
    "                neighbor.marked = True\n",
    "                queue.enqueue(neighbor)\n",
    "\n",
    "# Example Usage:\n",
    "node_a = Node('A')\n",
    "node_b = Node('B')\n",
    "node_c = Node('C')\n",
    "node_d = Node('D')\n",
    "\n",
    "node_a.neighbors = [node_b, node_c]\n",
    "node_b.neighbors = [node_a, node_d]\n",
    "node_c.neighbors = [node_a]\n",
    "node_d.neighbors = [node_b]\n",
    "\n",
    "print(\"BFS traversal starting from node A:\")\n",
    "bfs_iterative(node_a)\n"
   ]
  },
  {
   "cell_type": "code",
   "execution_count": null,
   "metadata": {},
   "outputs": [],
   "source": [
    "# 4.1, my attemot at bi-directional search, O(n) space, O(k^{d/2}) where k is the maxnumber of neighbors any node can have, \n",
    "# and d is how many times you need to run the for loops inside the while loop\n",
    "class Solution(object):\n",
    "    def validPath(self, n, edges, source, destination):\n",
    "        \"\"\"\n",
    "        :type n: int\n",
    "        :type edges: List[List[int]]\n",
    "        :type source: int\n",
    "        :type destination: int\n",
    "        :rtype: bool\n",
    "        \"\"\"\n",
    "        class ListNode:\n",
    "            def __init__(self,val=0,neighbors=None):\n",
    "                self.val = val\n",
    "                self.neighbors = []\n",
    "                self.visited = False\n",
    "        graph = ListNode()\n",
    "\n",
    "        if n<2:\n",
    "            return True\n",
    "        if source==destination:\n",
    "            return True\n",
    "\n",
    "        neighbors = {}\n",
    "        for i in range(0,n,1):\n",
    "            neighbors[ListNode(i)] = []\n",
    "        for i,edge in enumerate(edges):\n",
    "            key1 = neighbors.keys()[edge[0]]\n",
    "            key2 = neighbors.keys()[edge[1]]\n",
    "            neighbors[key1].append(key2)\n",
    "            neighbors[key2].append(key1)\n",
    "        for key in neighbors:\n",
    "            key.neighbors = neighbors[key]\n",
    "\n",
    "        queue1 = []\n",
    "        queue1.append(neighbors.keys()[source])\n",
    "        queue2 = []\n",
    "        queue2.append(neighbors.keys()[destination])\n",
    "\n",
    "        while len(queue1)!=0 and len(queue2)!=0:\n",
    "            current_node1 = queue1.pop(0)\n",
    "            neighbors_visited_from_source = {}\n",
    "            for neighbor in current_node1.neighbors:\n",
    "                if neighbor.visited==False:\n",
    "                    neighbor.visited = True\n",
    "                    if neighbor.val==destination:\n",
    "                        return True\n",
    "                    else:\n",
    "                        neighbors_visited_from_source[neighbor] = None\n",
    "                        queue1.append(neighbor)\n",
    "\n",
    "            current_node2 = queue2.pop(0)\n",
    "            for neighbor in current_node2.neighbors:\n",
    "                if neighbor in neighbors_visited_from_source:\n",
    "                    return True\n",
    "                if neighbor.visited==False:\n",
    "                    neighbor.visited=True\n",
    "                    if neighbor.val==source:\n",
    "                        return True\n",
    "                    else:\n",
    "                        queue2.append(neighbor)\n",
    "        return False\n",
    "                "
   ]
  },
  {
   "cell_type": "code",
   "execution_count": 38,
   "metadata": {},
   "outputs": [
    {
     "name": "stdout",
     "output_type": "stream",
     "text": [
      "{2: 3, 3: 4}\n",
      "{1, 3, 4}\n"
     ]
    }
   ],
   "source": [
    "dictionary = {1:2,2:3,3:4}\n",
    "del dictionary[1]\n",
    "print(dictionary)\n",
    "\n",
    "sets = set()\n",
    "sets.add(1)\n",
    "sets.add(2)\n",
    "sets.add(3)\n",
    "sets.add(4)\n",
    "sets.remove(2)\n",
    "print(sets)"
   ]
  },
  {
   "cell_type": "code",
   "execution_count": 42,
   "metadata": {},
   "outputs": [
    {
     "data": {
      "text/plain": [
       "-2"
      ]
     },
     "execution_count": 42,
     "metadata": {},
     "output_type": "execute_result"
    }
   ],
   "source": [
    "ord('{')-ord('}')"
   ]
  },
  {
   "cell_type": "code",
   "execution_count": 423,
   "metadata": {},
   "outputs": [
    {
     "name": "stdout",
     "output_type": "stream",
     "text": [
      "0 1 2 3 4 5 6 7 8 9 "
     ]
    }
   ],
   "source": [
    "# 4.2 \n",
    "class TreeNode:\n",
    "    def __init__(self, data):\n",
    "        self.data = data\n",
    "        # self.visited = False\n",
    "        self.left = None\n",
    "        self.right = None\n",
    "\n",
    "def create_minimal_tree(array: list):\n",
    "    if len(array)==0:\n",
    "        return None\n",
    "    if len(array)==1:\n",
    "        return TreeNode(array[0])\n",
    "    \n",
    "    mid_index = len(array)//2\n",
    "    mid = array[mid_index]\n",
    "    node = TreeNode(mid) # mid point should be the next new node (root) in a binary search tree, everything below is less, everything above is larger\n",
    "    node.left = create_minimal_tree(array[:mid_index])  # Like in merge sort, traverse down, shrinking whats left in the array, until you can fill values\n",
    "    node.right = create_minimal_tree(array[mid_index+1:])\n",
    "\n",
    "    return node # return child node\n",
    "\n",
    "# In Order traversal\n",
    "def inorder_traversal(node):\n",
    "    if node:\n",
    "        inorder_traversal(node.left)\n",
    "        print(node.data, end=\" \")\n",
    "        inorder_traversal(node.right)\n",
    "\n",
    "n=10\n",
    "array = [i for i in range(n)]\n",
    "tree = create_minimal_tree(array)\n",
    "inorder_traversal(tree)"
   ]
  },
  {
   "cell_type": "code",
   "execution_count": 425,
   "metadata": {},
   "outputs": [
    {
     "name": "stdout",
     "output_type": "stream",
     "text": [
      "{0: <__main__.ListNode object at 0x1170dc950>, 1: <__main__.ListNode object at 0x116d09730>, 2: <__main__.ListNode object at 0x116d08bf0>, 3: <__main__.ListNode object at 0x116d08950>, 4: <__main__.ListNode object at 0x116d0a930>}\n"
     ]
    }
   ],
   "source": [
    "def list_of_depths(node: TreeNode):\n",
    "    if not node:\n",
    "        return None\n",
    "    if node.left==None and node.right==None:\n",
    "        return [ListNode(node.data)]\n",
    "    count=[0]\n",
    "    hash_table = {}\n",
    "    hash_table = dfs(node,count,hash_table)\n",
    "    for depth in hash_table:\n",
    "        if len(hash_table[depth])>=1:\n",
    "            head = ListNode(hash_table[depth][0])\n",
    "            current = head\n",
    "            i = 1\n",
    "        while i<len(hash_table[depth]):\n",
    "            current.next = ListNode(hash_table[depth][i])\n",
    "            current = current.next\n",
    "        hash_table[depth] = head\n",
    "        \n",
    "    return hash_table\n",
    "\n",
    "\n",
    "def dfs(node: TreeNode,count,hash_table):\n",
    "    if not node:\n",
    "        return \n",
    "    \n",
    "    # node.visited = True\n",
    "    if node.data in hash_table:\n",
    "        hash_table[count[0]].append(node.data)\n",
    "    else:\n",
    "        hash_table[count[0]] = [node.data]\n",
    "\n",
    "    count[0]+=1\n",
    "    for neighbor in [node.left,node.right]:\n",
    "        # if neighbor.visited==False:\n",
    "        dfs(neighbor,count,hash_table)\n",
    "\n",
    "    return hash_table\n",
    "\n",
    "\n",
    "node = TreeNode(3)\n",
    "node.left = TreeNode(2)\n",
    "node.right = TreeNode(4)\n",
    "node.left.left = TreeNode(6)\n",
    "node.right.right = TreeNode(4)\n",
    "table = list_of_depths(node)\n",
    "print(table)\n",
    "\n",
    "    "
   ]
  },
  {
   "cell_type": "code",
   "execution_count": 429,
   "metadata": {},
   "outputs": [
    {
     "name": "stdout",
     "output_type": "stream",
     "text": [
      "[<__main__.ListNode object at 0x113170110>, <__main__.ListNode object at 0x1123efcb0>, <__main__.ListNode object at 0x1123ef110>]\n"
     ]
    }
   ],
   "source": [
    "def create_level_linked_list(node:TreeNode, lists: list, level: int):\n",
    "    if node is None:\n",
    "        return\n",
    "    \n",
    "    linked_list = ListNode(None)\n",
    "    if len(lists)==level:\n",
    "        lists.append(linked_list)\n",
    "    else:\n",
    "        linked_list = lists[level]\n",
    "\n",
    "    if linked_list.val is None:\n",
    "        linked_list.val = node.data\n",
    "    else:\n",
    "        current = linked_list\n",
    "        while current.next:\n",
    "            current = current.next\n",
    "        current.next = ListNode(node.data)\n",
    "\n",
    "    create_level_linked_list(node.left,lists,level+1)\n",
    "    create_level_linked_list(node.right,lists,level+1)\n",
    "\n",
    "def list_of_depths(node:TreeNode):\n",
    "    lists=[]\n",
    "    create_level_linked_list(node,lists,level=0)\n",
    "    return lists\n",
    "\n",
    "node = TreeNode(3)\n",
    "node.left = TreeNode(2)\n",
    "node.right = TreeNode(4)\n",
    "node.left.left = TreeNode(6)\n",
    "node.right.right = TreeNode(4)\n",
    "table = list_of_depths(node)\n",
    "print(table)"
   ]
  },
  {
   "cell_type": "markdown",
   "metadata": {},
   "source": [
    "A* Algorithm\n",
    "\n",
    "- Path finding algortihm between two points in a graph\n",
    "- Tries most promising path first\n",
    "- To do this, need to compare two positions in the graph and say which is better\n",
    "- Use heuristic: give estimated cost of one path vs. another (e.g. straight line path between current point and destination)\n",
    "- Closed list holds already considered\n",
    "- Open list holds ones to visit still"
   ]
  },
  {
   "cell_type": "code",
   "execution_count": null,
   "metadata": {},
   "outputs": [],
   "source": []
  },
  {
   "cell_type": "markdown",
   "metadata": {},
   "source": [
    "Dijkstra's Algorithm\n",
    "\n",
    "- Using Min Heap O(E*log V) time and O(V) space\n",
    "- Goal is to find tge shortest distance from a source node to all other nodes in the graph\n",
    "- Source node distance is zero\n",
    "- Iteratively choose unprocessed node with the minimum distance from the source (min-heap (priority queue) can be used for efficiency)\n",
    "- For each node u, update the distance to its neighbor v using dist[v] = dist[u] + weight[u][v] if it is shorter than the current one\n",
    "\n"
   ]
  },
  {
   "cell_type": "code",
   "execution_count": null,
   "metadata": {},
   "outputs": [],
   "source": [
    "# Returns shortest distances from src to all other vertices\n",
    "def dijkstra(V, edges, src):\n",
    "    # Create adjacency list\n",
    "    adj = constructAdj(edges, V)\n",
    "\n",
    "    # Create a priority queue to store vertices that are being preprocessed.\n",
    "    pq = []\n",
    "    \n",
    "    # Create a list for distances and initialize all distances as infinite\n",
    "    dist = [float('inf')] * V\n",
    "\n",
    "    # Insert source itself in priority queue and initialize its distance as 0.\n",
    "    heapq.heappush(pq, [0, src])\n",
    "    dist[src] = 0\n",
    "\n",
    "    # Looping till priority queue becomes empty (or all distances are not finalized) \n",
    "    while pq:\n",
    "        # The first vertex in pair is the minimum distance vertex, extract it from priority queue.\n",
    "        u = heapq.heappop(pq)[1]\n",
    "\n",
    "        # Get all adjacent of u.\n",
    "        for x in adj[u]:\n",
    "            # Get vertex label and weight of current adjacent of u.\n",
    "            v, weight = x[0], x[1]\n",
    "\n",
    "            # If there is shorter path to v through u.\n",
    "            if dist[v] > dist[u] + weight:\n",
    "                # Updating distance of v\n",
    "                dist[v] = dist[u] + weight\n",
    "                heapq.heappush(pq, [dist[v], v])\n",
    "\n",
    "    # Return the shortest distance array\n",
    "    return dist"
   ]
  },
  {
   "cell_type": "markdown",
   "metadata": {},
   "source": [
    "---"
   ]
  },
  {
   "cell_type": "markdown",
   "metadata": {},
   "source": [
    "### II. Concepts and Algorithms"
   ]
  },
  {
   "cell_type": "markdown",
   "metadata": {},
   "source": [
    "Section 5: Bit Manipulation\n",
    "\n",
    "- 0000 = $0\\times2^3+0\\times2^2+0\\times2^1+0\\times2^0 = 0$\n",
    "- 0001 = $0\\times2^3+0\\times2^2+0\\times2^1+1\\times2^0 = 1$\n",
    "- 0110 = $0\\times2^3+1\\times2^2+1\\times2^1+1\\times2^0 = 6$\n",
    "\n",
    "Operations:\n",
    "\n",
    "- add: +\n",
    "- subtract: -\n",
    "- multiply: *\n",
    "- Arithmetic bit shift right by n (divide by 2^n): >> n\n",
    "- Arithemtic bit shift left by n (multiply by 2^n): << n\n",
    "- AND: & (both must be 1 to get 1)\n",
    "- OR: | (at least one must be 1 to get 1)\n",
    "- NOT: ~ (Flips each)\n",
    "- XOR: ^ (only one can be 1 to get 1, 00: 0, 10: 1, 01: 1, 11: 0)\n",
    "\n",
    "Facts and Tricks\n",
    "\n",
    "Two's Complement and Negative Numbers\n",
    "\n",
    "Two's complement: of an N-bit number is the complemennt of the number with respect to $2^N$, i.e. $2^N -$number, where N is the number of bits used for the number, exclusing the sign bit.\n",
    "\n",
    "- Positive Number: itself, sign bit is 0 (positive)\n",
    "- Negative Number: two's complement of its absolute value, sign bit is 1 (negative)\n",
    "\n",
    "e.g. -3 = -1*($2^3$-5) = 1 101, alternatively, invert bits in teh positive representation then add 1. 3 = 011, flip to get 100, add 1 to get 101, add the sign bit 1101\n",
    "\n",
    "Arithmetic vs. Logical Right Shist\n",
    "\n",
    "- Logical: Replaces significant bit (sign bit) with a zero, shift bits to the right\n",
    "- Arithmetic: replaces significant bit(sign bit) by 1, shifts the others to the right (acts like divide by two)\n",
    "\n",
    "- Logical shifting repeatedly more than the size N gives all 0s = +0.\n",
    "- Arithmetic shifting repeatedly more than the size N gives all 1s = -1."
   ]
  },
  {
   "cell_type": "code",
   "execution_count": 200,
   "metadata": {},
   "outputs": [],
   "source": [
    "# Get Bit\n",
    "def get_bit(num:int, i:int):\n",
    "    return bool((num & (1 << i)) !=0) # << left shifts 0000001 by i places to, e.g. 00100000, true: indicates bit i was 1, False: indicates bit i was 0\n",
    "# Set bit\n",
    "def set_bit(num:int, i:int):\n",
    "    return num | (1 << i)\n",
    "# Clear bit\n",
    "def clear_bit(num:int, i:int):\n",
    "    mask = ~(1 << i) # 11101111\n",
    "    return num & mask # only clears i-th bit, leaves rest of the bits unchanged\n",
    "# Clear significant bits through i\n",
    "def clear_sig_through_i(num: int, i: int):\n",
    "    mask = (1 << i) - 1 # 00010000 - 1 = 00001111\n",
    "    return num & mask\n",
    "# Clear bits i through 0\n",
    "def clear_i_through_0(num: int, i: int):\n",
    "    mask = (-1 << (i+1)) # 11100000\n",
    "    return num & mask\n",
    "# Update bit\n",
    "def update_bit(num: int, i: int, bit_is_1: bool):\n",
    "    value = 1 if bit_is_1 else 0\n",
    "    mask = ~(1 << i)\n",
    "    return (num & mask) | (value << i)"
   ]
  },
  {
   "cell_type": "markdown",
   "metadata": {},
   "source": [
    "---"
   ]
  },
  {
   "cell_type": "markdown",
   "metadata": {},
   "source": [
    "#### Section 6: Math and Logic Puzzles\n",
    "\n",
    "- Can be logically deduced\n",
    "- Foundations in math or somputer science\n",
    "\n",
    "Prime Numbers\n",
    "\n",
    "- Fact: every positibve integer can be decomposed as a product of primes, with many higher order terms having a power of 0 if the integer is small\n",
    "- Divisibility: \n",
    "    - x divides y (x\\y, mod(x,y)=0): all primes found in x's prime factlrization must be in y's. \n",
    "    - For all i, $j_i<=k_i$, $x = 2^{j0} * 3^{j1} * 5^{j2} * 7^{j3} * \\cdots$, $y = 2^{k0} * 3^{k1} * 5^{k2} * 7^{k3} * \\cdots$\n",
    "    - gcd(x,y) = $2^{min(j0,k0)} * 3^{min(j1,k1)} * \\cdots$\n",
    "    - lcm(x,y) = $2^{max(j0,k0)} * 3^{max(j1,k1)} * \\cdots$\n",
    "    - gcd(x,y) * lcm(x,y) = x * y\n",
    "\n",
    "1. Check primality: if n<2 return false, otherwise go through from 2 to sqrt(n) to check if n%i is 0, if never, return true\n",
    "2. List of Primes: Sieve of Eratosthenes\n",
    "\n"
   ]
  },
  {
   "cell_type": "code",
   "execution_count": null,
   "metadata": {},
   "outputs": [],
   "source": [
    "# O(NloglogN), can only use odd values in the list to reduce space usage by half\n",
    "# First mark N/2 elements, then N/3, then N/5, then N/7 composite numbers, etc.\n",
    "# work done = N/2 + N/3 + N/5 + N/7 + N/11 = N(1/2+1/3+1/5+1/7+1/11)\n",
    "# Use Harmonic progression of the sum of primes: N*log(log(N))\n",
    "# https://www.baeldung.com/cs/sieve-of-eratosthenes\n",
    "def sieve_of_eratosthenes(max_value):\n",
    "    \"\"\"\n",
    "    Finds all prime numbers up to a given limit using the Sieve of Eratosthenes algorithm.\n",
    "\n",
    "    Args:\n",
    "        max_value: The upper limit for finding prime numbers.\n",
    "\n",
    "    Returns:\n",
    "        A list of prime numbers up to max_value.\n",
    "    \"\"\"\n",
    "\n",
    "    # Create a boolean array \"is_prime\" and initialize all entries as True\n",
    "    is_prime = [True] * (max_value + 1)\n",
    "    is_prime[0] = is_prime[1] = False  # 0 and 1 are not prime\n",
    "\n",
    "    # Iterate through numbers from 2 to the square root of max_value\n",
    "    for p in range(2, int(max_value**0.5) + 1):\n",
    "        # If is_prime[p] is not changed, then it is a prime\n",
    "        if is_prime[p]:\n",
    "            # Update all multiples of p as non-prime\n",
    "            for i in range(p * p, max_value + 1, p):\n",
    "                is_prime[i] = False\n",
    "\n",
    "    # Collect all prime numbers\n",
    "    primes = [p for p in range(2, max_value + 1) if is_prime[p]]\n",
    "    return primes"
   ]
  },
  {
   "cell_type": "code",
   "execution_count": null,
   "metadata": {},
   "outputs": [],
   "source": [
    "# O(NloglogN), can only use odd values in the list to reduce space usage by half\n",
    "def sieve_of_eratosthenes(max_value):\n",
    "    flags = [True]*(max_value+1)\n",
    "    flags[0] = False; flags[1] = False\n",
    "    prime = 2\n",
    "    while prime * prime <= max_value:\n",
    "        # Cross off the multiples of this value\n",
    "        cross_off(flags, prime)\n",
    "        prime = get_next_prime(flags, prime)\n",
    "    return [p for p in range(max_value+1) if flags[p]]\n",
    "\n",
    "\n",
    "def cross_off(flags, prime):\n",
    "    for i in range(prime*prime,len(flags),prime):\n",
    "        flags[i] = False\n",
    "\n",
    "def get_next_prime(flags, prime):\n",
    "    next = prime + 1 # update the current value by 1\n",
    "    while next < len(flags) and not flags[next]: # want flags[next] to be crossed off (False) before updating next\n",
    "        next +=1\n",
    "    return next"
   ]
  },
  {
   "cell_type": "code",
   "execution_count": 210,
   "metadata": {},
   "outputs": [
    {
     "data": {
      "text/plain": [
       "[2, 3, 5, 7]"
      ]
     },
     "execution_count": 210,
     "metadata": {},
     "output_type": "execute_result"
    }
   ],
   "source": [
    "sieve_of_eratosthenes(max_value = 10)"
   ]
  },
  {
   "cell_type": "markdown",
   "metadata": {},
   "source": [
    "Probability\n",
    "\n",
    "Probability of A and B\n",
    "- P(A and B) = P(B given A) P(A), really $P(A,B) = P(B|A)P(A)$.\n",
    "- Bayes Theorem: $P(A | B) = P(B|A) P(A)/P(B)$\n",
    "\n",
    "Probability of A or B\n",
    "- P(A or B) = P(A) + P(B) - P(A and B)\n",
    "\n",
    "Independence\n",
    "- one event does not affect another\n",
    "- P(A and B) = P(A) P(B) where P(B given A) = P(B) since they are independent now\n",
    "\n",
    "Mutual Exclusivity\n",
    "- one event cannot happen with the other\n",
    "- P(A or B) = P(A) + P(B) since P(A and B) = 0\n",
    "\n",
    "Two events, as long as they have nonzero probabilities, will never be both independent and mutually exclusive.\n",
    "\n",
    "Tips\n",
    "- Start talking\n",
    "- Develop rules and patterns\n",
    "- Explore and write down what you have dicovered thus far\n",
    "- Many brainteasers are worst case shifting (minimization) questions, doing something at most a specific number of times\n",
    "    - Balance out the worst case by changing an early decision\n",
    "- If stuck, use algorithm approaches\n",
    "\n"
   ]
  },
  {
   "cell_type": "markdown",
   "metadata": {},
   "source": [
    "---"
   ]
  },
  {
   "cell_type": "markdown",
   "metadata": {},
   "source": [
    "#### Section 7: Object-Oriented Design (OOD)\n",
    "\n",
    "How to Approach\n",
    "- Step 1: Handle Ambiguity, ask questions to understand what to build and what features are important\n",
    "- Step 2: Define the core objects\n",
    "- Step 3: Analyze relationships, \n",
    "- Step 4: Investigate actions, key actions objects take and how they relate to each other\n",
    "\n",
    "Design Patterns\n",
    "- Singleton: enaures that a class has only one instance and ensures access to the instance through the application\n",
    "    - Useful where you have a global object with exactly one instance\n",
    "     - Can interfere with unit testing\n",
    "- Factory: interface for creating an instance of a class with its subclass deciding which class to instantiate\n",
    "    - May want to implement with the creator class being abstract and not providing an implementation for the Factory Method\n"
   ]
  },
  {
   "cell_type": "code",
   "execution_count": null,
   "metadata": {},
   "outputs": [],
   "source": [
    "class Singleton(type):\n",
    "    _instances = {}\n",
    "    def __call__(cls, *args, **kwargs):\n",
    "        if cls not in cls._instances:\n",
    "            cls._instances[cls] = super(Singleton, cls).__call__(*args, **kwargs)\n",
    "        return cls._instances[cls]\n",
    "\n",
    "class MyClass(metaclass=Singleton):\n",
    "    pass\n",
    "\n",
    "a = MyClass()\n",
    "b = MyClass()\n",
    "print(a is b) # Output: True\n"
   ]
  },
  {
   "cell_type": "code",
   "execution_count": 212,
   "metadata": {},
   "outputs": [
    {
     "name": "stdout",
     "output_type": "stream",
     "text": [
      "Woof!\n",
      "Meow!\n"
     ]
    }
   ],
   "source": [
    "from abc import ABC, abstractmethod\n",
    "\n",
    "class Animal(ABC):\n",
    "    @abstractmethod\n",
    "    def speak(self):\n",
    "        pass\n",
    "\n",
    "class Dog(Animal):\n",
    "    def speak(self):\n",
    "        return \"Woof!\"\n",
    "\n",
    "class Cat(Animal):\n",
    "    def speak(self):\n",
    "        return \"Meow!\"\n",
    "\n",
    "class AnimalFactory(ABC):\n",
    "    @abstractmethod\n",
    "    def create_animal(self):\n",
    "        pass\n",
    "\n",
    "class DogFactory(AnimalFactory):\n",
    "    def create_animal(self):\n",
    "        return Dog()\n",
    "\n",
    "class CatFactory(AnimalFactory):\n",
    "    def create_animal(self):\n",
    "        return Cat()\n",
    "\n",
    "def animal_sound(factory: AnimalFactory):\n",
    "    animal = factory.create_animal()\n",
    "    return animal.speak()\n",
    "\n",
    "dog_factory = DogFactory()\n",
    "print(animal_sound(dog_factory))\n",
    "\n",
    "cat_factory = CatFactory()\n",
    "print(animal_sound(cat_factory))"
   ]
  },
  {
   "cell_type": "markdown",
   "metadata": {},
   "source": [
    "---"
   ]
  },
  {
   "cell_type": "markdown",
   "metadata": {},
   "source": [
    "#### Section 8: Recursion and Dynamic Programming\n",
    "\n",
    "Hint: recursive if it can be built off of subproblems\n",
    "- Design an algorithm to compute the nth \n",
    "- Write code to list the first n\n",
    "- Implement a method to compute all\n",
    "\n",
    "How to Approach\n",
    "\n",
    "- Buult off of solutions to subproblems, divide a problem into subprobelms. Common approahces: bottom-up, top-down, and half-and-half\n",
    "\n",
    "Bottom-Up Approach\n",
    "\n",
    "- Often the most intuitive\n",
    "- Solve the problem for a simple case, say one element\n",
    "- Then 2, 3, etc.\n",
    "- How to build the solution for one case off of the previous case, or multiple previous cases\n",
    "\n",
    "Top-Down Approach\n",
    "\n",
    "- Less concrete, but sometimes the best way\n",
    "- How to divide the problem for case N into subproblems\n",
    "- Be careful of overlap between the cases\n",
    "\n",
    "Half-and-Half Approach\n",
    "\n",
    "- Divide the data set in half, e.g. binary search, find out which half contains a value, recurse and search in that half\n",
    "- Merge sort: sort each half of an array and merge the sorted halves\n",
    "\n",
    "\n",
    "Recursion vs. Iterative Solutions\n",
    "\n",
    "- Recursion can be space inefficient, O(depth) by adding a new layer to the stack\n",
    "- Try to implement a recursive algorithm iteratively\n",
    "- All recursive algorithms can be implemented iteratively, although sometimes its more complex\n",
    "- Before choosing recursion, ask how difficult an iterative approach would be\n",
    "- Discuss tradeoffs with interviewer\n",
    "\n",
    "Dynamic Programming and Memoization\n",
    "\n",
    "- take a recursive algorithm and find the overlapping subproblems (repeated calls), cache those results for future recursive calls\n",
    "- alternatively, you can study the pattern of the recursion and implement something iterative where you still 'cache' previous work in this case\n"
   ]
  },
  {
   "cell_type": "code",
   "execution_count": 215,
   "metadata": {},
   "outputs": [],
   "source": [
    "def factorial_recursive(n):\n",
    "  if n == 0:\n",
    "    return 1\n",
    "  else:\n",
    "    return n * factorial_recursive(n-1)\n",
    "  \n",
    "def factorial_iterative(n):\n",
    "  result = 1\n",
    "  while n > 0:\n",
    "    result *= n\n",
    "    n -= 1\n",
    "  return result\n"
   ]
  },
  {
   "cell_type": "markdown",
   "metadata": {},
   "source": [
    "- Top-Down Dyanmic Programming (or Memoization)\n",
    "    - Save computed nodes which have the same value\n",
    "    - Memoization: each time you compute function(i), cache this and use it later"
   ]
  },
  {
   "cell_type": "code",
   "execution_count": null,
   "metadata": {},
   "outputs": [],
   "source": [
    "def fib(n: int):\n",
    "  if n==0 or n==1:\n",
    "    return n\n",
    "  return fib(n-1)+fib(n-2)\n",
    "\n",
    "def fibonacci(i:int, memo: list):\n",
    "  if i==0 or i==1:\n",
    "    return i\n",
    "  \n",
    "  if memo[i]==0:\n",
    "    memo[i] = fibonacci(i-1, memo) + fibonacci(i-2,memo)\n",
    "\n",
    "  return memo[i]\n",
    "  \n",
    "\n",
    "def fib_dynamic(n:int):\n",
    "  return fibonacci(n,[0]*(n+1))"
   ]
  },
  {
   "cell_type": "code",
   "execution_count": 224,
   "metadata": {},
   "outputs": [
    {
     "data": {
      "text/plain": [
       "6765"
      ]
     },
     "execution_count": 224,
     "metadata": {},
     "output_type": "execute_result"
    }
   ],
   "source": [
    "fib(20)"
   ]
  },
  {
   "cell_type": "code",
   "execution_count": 225,
   "metadata": {},
   "outputs": [
    {
     "data": {
      "text/plain": [
       "6765"
      ]
     },
     "execution_count": 225,
     "metadata": {},
     "output_type": "execute_result"
    }
   ],
   "source": [
    "fib_dynamic(20)"
   ]
  },
  {
   "cell_type": "markdown",
   "metadata": {},
   "source": [
    "- Bottom-Up Dynamic Programming\n",
    "    - recursive memoized approach but in reverse"
   ]
  },
  {
   "cell_type": "code",
   "execution_count": 227,
   "metadata": {},
   "outputs": [],
   "source": [
    "def fibonacci(n: int):\n",
    "    if n==0 or n==1:\n",
    "        return n\n",
    "    \n",
    "    memo = [0]*n\n",
    "    for i in range(2,n,1):\n",
    "        memo[i] = memo[i-1] + memo[i-2]\n",
    "    \n",
    "    return memo[n-1] + memo[n-2]\n",
    "\n",
    "# Better space complexity by just saving the last two values\n",
    "def fibonacci(n: int):\n",
    "    if n==0:\n",
    "        return 0\n",
    "    a = 0\n",
    "    b = 1\n",
    "    for i in range(2,n,1):\n",
    "        c = a+b # n-1 fibonacci at end\n",
    "        a = b\n",
    "        b = c\n",
    "    return a+b # nth fibonacci"
   ]
  },
  {
   "cell_type": "code",
   "execution_count": 230,
   "metadata": {},
   "outputs": [
    {
     "data": {
      "text/plain": [
       "832040"
      ]
     },
     "execution_count": 230,
     "metadata": {},
     "output_type": "execute_result"
    }
   ],
   "source": [
    "fibonacci(30)"
   ]
  },
  {
   "cell_type": "markdown",
   "metadata": {},
   "source": [
    "More Recursion Examples"
   ]
  },
  {
   "cell_type": "code",
   "execution_count": null,
   "metadata": {},
   "outputs": [],
   "source": [
    "def get_permutations(string):\n",
    "    if len(string) == 0:\n",
    "        return ['']\n",
    "    \n",
    "    permutations = []\n",
    "    for i in range(len(string)):\n",
    "        first_char = string[i]\n",
    "        rest_of_string = string[:i] + string[i+1:]\n",
    "        \n",
    "        sub_permutations = get_permutations(rest_of_string)\n",
    "        \n",
    "        for sub_permutation in sub_permutations:\n",
    "            permutations.append(first_char + sub_permutation)\n",
    "            \n",
    "    return permutations\n",
    "\n",
    "# Example usage\n",
    "input_string = \"abc\"\n",
    "result = get_permutations(input_string)\n",
    "print(result)\n"
   ]
  },
  {
   "cell_type": "markdown",
   "metadata": {},
   "source": [
    "Permutations Explanation:\n",
    "- Base Case: If the input string is empty, return a list containing an empty string (as there's only one permutation of an empty string).\n",
    "Recursive Step:\n",
    "- Iterate through each character in the string.\n",
    "- Fix the current character as the first character of a permutation.\n",
    "- Recursively find all permutations of the remaining characters.\n",
    "- Prepend the fixed character to each of the sub-permutations.\n",
    "- Add the resulting permutations to the list of permutations.\n",
    "\n",
    "\n",
    "Return Value: Return the list of all generated permutations."
   ]
  },
  {
   "cell_type": "markdown",
   "metadata": {},
   "source": [
    "---"
   ]
  },
  {
   "cell_type": "markdown",
   "metadata": {},
   "source": [
    "#### Section 9: System Design and Scalability\n",
    "\n",
    "- No hidden bits of knowledge\n",
    "- Meant to test real world scenarios\n",
    "- Tackle the problem just as you would at work\n",
    "- Ask questions\n",
    "- Engage the interviewer\n",
    "- Discuss the tradeoffs\n",
    "\n",
    "Handling the questions\n",
    "- Communicate\n",
    "- Go broad first\n",
    "- Use the whiteboard\n",
    "- Acknowledge interviewer concerns\n",
    "- Be careful about assumptions\n",
    "- State assumptions explicitly \n",
    "- Estimate when necessary\n",
    "- Drive: driving the question by asking questions, open to tradeoffs, going deeper, continuing to make improvements\n",
    "\n",
    "Design Step-by-Step\n",
    "- Step 1: Scope the problem\n",
    "    - Ensure you are building what the interviewer wants\n",
    "    - Understand exactly what you need to implement\n",
    "    - Make a list of the major features and use cases\n",
    "- Step 2: Make Reasonable Assumptions\n",
    "    - Realistic but useful assumptions\n",
    "    - Some take a 'product sense'\n",
    "    - Be vocal about the assumptions\n",
    "- Step 3: Draw the major Components\n",
    "    - Draw a diagram of the major components\n",
    "    - Walk through the system from end-to-end to provide a flow\n",
    "- Step 4: Identify the Key Issues\n",
    "    - With a base design in mind, think about the issues\n",
    "    - Consider dynamics or events that could arise\n",
    "    - Take guidance from the interviewer\n",
    "- Step 5: Redesign for the Key Issues\n",
    "     - Major redesign OR just a minor adjustment (such as using a cache)\n",
    "     - Update the diagram as the design changes\n",
    "     - Open about limitations\n",
    "\n",
    "\n",
    "Algorithms that Scale: Step-by-Step\n",
    "    - Sometimes asked to design a single feature or algorithm rather than an entire system, but it must be done in a scalable way\n",
    "- Step 1: Ask Questions\n",
    "    - May be details the interviewer left out intentionally or unintentionally\n",
    "    - Be sure to understand what the problem is\n",
    "- Step 2: Make Believe\n",
    "    - Pretend that the data can all fit on one machine and there are no memory limitations (not to assume for system design)\n",
    "    - This will provide a general outline for the solution\n",
    "- Step 3: Get Real\n",
    "    - How much data can actually be fit on one machine\n",
    "    - Issues when splitting up the data\n",
    "    - Common problems: how to logically divide the data, how one machine would identify where to look up a different piece of data\n",
    "- Step 4: Solve Problems\n",
    "    - How to solve the issues identified in step 3\n",
    "    - Solution may be to remove the issue entirely or mitigate the issue\n",
    "    - usually, can continue approach in step 2, however, sometimes may need to fundamentally alter the approach\n",
    "    - Iterative approach is usefu: solved problems from step 3 may lead to new ones that need to be tackled, as well\n",
    "\n",
    "To demonstrate you can analyze and solve problems. Poking holes in your own solution is a good way to demonstrate this\n",
    "\n",
    "Key Concepts\n",
    "\n",
    "- Horizontal vs. vertical Scaling\n",
    "    - Vertical Scaling: increasing the resources of a specific node (e.g. add additional memory to a server to improve its ability to handle load changes)\n",
    "    - Horizontal Scaling: increasing the number of nodes: (e.g. add additional servers to decrease the load on each server)\n",
    "\n",
    "- Load Balancer\n",
    "    - Typically, frontend parts of a scalable website with be thrown behind a load balancer\n",
    "    - Allows a systemt o distribute the load evenly so that one server does not crash and take down all servers\n",
    "    - To do: build out a nectwork of clones servers that all have essentially the same code and access to the same data\n",
    "\n",
    "- Database Denormalization and NoSQL\n",
    "    - joins in a relational database, such as SQL, cen get very slow as teh system grows bigger\n",
    "    - Denormalization: adding redundant information into a database to speed up reads (e.g. add project name in task table, rather than joining tables)\n",
    "    - Alternatively, go with a NoSQL database: not support joins, may structure data differently, designed to scale better\n",
    "\n",
    "- Database Partitioning (Sharding)\n",
    "    - Sharding: splitting the data across mutliple machines while ensuring you have a way of figuring out which data is on which machine\n",
    "        - Vertical Partitioning: partition by feature, can get large -> repartition\n",
    "        - Key_Based (or Hash-Based) Partitioning: some part of the data, e.g. ID, to partiiton. N servers, put data on mod(key,n), however N is fixed -> additonal servers would mean reallocating all the data (expensive)\n",
    "        - Directory-Based Partitioning: maintain a look-up table for where the data can be found. Easy to add additional servers, but (1) lookup table can be a single point of failure, (2) constantly accessing this table impacts performance \n",
    "    - Many architectures use multiple partitioning schemes\n",
    "\n",
    "- Caching\n",
    "    - simple key-value pairing\n",
    "    - between your application layer and your data store (typically)\n",
    "    - application first tries the cache to see if it contains the key before looking in the data store\n",
    "    - Cache a query and itsresults or a specific object\n",
    "\n",
    "Asynchronous Processing & Queues\n",
    "    - slow operations should be done this way\n",
    "    - can have a queue of jobs to be done\n",
    "\n",
    "Networking metrics\n",
    "    - Bandwidth: maximum amount of data that can be transferred in a unit of time. (bits/second)\n",
    "    - Throughput: actual amount of data transferred per time\n",
    "    - Latency: how long it takes data to go from one end to the other (delay between sender and receiver)\n",
    "\n",
    "MapReduce\n",
    "    - Used to process large amounts of data\n",
    "    - requires a Map step and a Reduce step, rest is handles by the system\n",
    "    - Map: takes in data and emits a (key,value) pair\n",
    "    - Reduce: takes a key and a set of associated values and reduces them in some way, emitting a new key and value\n",
    "    - Allows for processing in parallel -> makes processing data more scalable\n",
    "\n",
    "Considerations\n",
    "    - Failures\n",
    "    - Availability and Reliability\n",
    "        - Availability: function of the percentage of time the system is operational\n",
    "        - Realiability: function of the probability that the system is operational for a certain unit of time\n",
    "    - Read-Heavy vs. Write-Heavy\n",
    "        - Write-Heavy: queue up the writes (consider failure)\n",
    "        - Read-Heavy: cache\n",
    "    - Security\n",
    "\n",
    "\n",
    "There is no perfect system. Goal: undertsand use cases, scope a problem, make reasonable assumptions, create a solid design based on those assumptions, and be open about the weaknesses of your design. \n",
    "\n",
    "\n",
    "\n"
   ]
  },
  {
   "cell_type": "markdown",
   "metadata": {},
   "source": [
    "Section 10: Sorting and Searching\n",
    "\n",
    "- Bubble Sort: Check sequential pairs, swapping elements less for those greater O($n^2$)\n",
    "- Selection Sort: Find the min, scan again to find the next min, etc. O($n^2$)\n",
    "- Merge Sort: split in half, sort each half, merge by checking if those in the left are less than those in the right (can use recursion) O(n log n)\n",
    "- Quick Sort: choose a random element, split the data into an array which is less than this element and an array which holds larger elements, repeast on the left and right-hand sides (can recurse) O(n log n)\n",
    "- Radix Sort: "
   ]
  },
  {
   "cell_type": "code",
   "execution_count": null,
   "metadata": {},
   "outputs": [],
   "source": [
    "# O(N^2), mem O(1)\n",
    "def bubble_sort(arr: list):\n",
    "    if len(arr)<=1:\n",
    "        return arr\n",
    "    \n",
    "    for i in range(len(arr)):\n",
    "        for j in range(len(arr)-1):\n",
    "            if arr[j+1]<arr[j]:\n",
    "                temp = arr[j+1]\n",
    "                arr[j+1] = arr[j]\n",
    "                arr[j] = temp\n",
    "\n",
    "    return arr\n",
    "\n",
    "# O(N^2), space O(1)\n",
    "def selection_sort(arr: list):\n",
    "    if len(arr)<=1:\n",
    "        return arr\n",
    "    \n",
    "    for i in range(len(arr)-1):\n",
    "        min = arr[i]\n",
    "        for j in range(len(arr)):\n",
    "            if i<j and arr[j]<arr[i]:\n",
    "                min = arr[j]\n",
    "                arr[j] = arr[i]\n",
    "                arr[i] = min\n",
    "    return arr\n",
    "\n",
    "# O(n log n) , mem O(n)\n",
    "def merge_sort(arr: list):\n",
    "    if len(arr)<=1:\n",
    "        return arr\n",
    "    \n",
    "    mid = len(arr)//2\n",
    "    left = merge_sort(arr[:mid])\n",
    "    right = merge_sort(arr[mid:])\n",
    "\n",
    "    return merge(left,right)\n",
    "\n",
    "\n",
    "def merge(arr1:list, arr2:list):\n",
    "    merged_arr = []\n",
    "    left_index = 0\n",
    "    right_index = 0\n",
    "    while left_index<len(arr1) and right_index<len(arr2):\n",
    "        if arr1[left_index]<=arr2[right_index]:\n",
    "            merged_arr.append(arr1[left_index])\n",
    "            left_index+=1\n",
    "        # elif arr1[left_index]==arr2[right_index]:\n",
    "        #     merged_arr.append(arr1[left_index])\n",
    "        #     merged_arr.append(arr2[right_index])\n",
    "        #     left_index+=1\n",
    "        #     right_index+=1\n",
    "        else:\n",
    "            merged_arr.append(arr2[right_index])\n",
    "            right_index +=1\n",
    "    merged_arr += arr1[left_index:] + arr2[right_index:]\n",
    "    return merged_arr\n",
    "\n",
    "# O(n log n), mem O(n)\n",
    "# import random\n",
    "def quick_sort(arr: list):\n",
    "    if len(arr)<=1:\n",
    "        return arr\n",
    "    \n",
    "    # rand_index = random.randint(0,len(arr)-1)\n",
    "    pivot = arr[len(arr)//2]\n",
    "    smaller = [arr[i] for i in range(len(arr)) if (arr[i]<=pivot and i!=(len(arr)//2) )]\n",
    "    larger = [arr[i] for i in range(len(arr)) if arr[i]>pivot]\n",
    "    return quick_sort(smaller) + [pivot] + quick_sort(larger)\n",
    "\n",
    "\n",
    "# O(n log n), mem O(log n)\n",
    "# import random\n",
    "def quick_sort_alt(arr: list, left: int, right: int):\n",
    "    if len(arr)<=1:\n",
    "        return arr\n",
    "    \n",
    "    index = partition(arr, left, right)\n",
    "    if left<index-1: # sort left half\n",
    "        quick_sort_alt(arr, left, index-1)\n",
    "    if index<right: #sort right half\n",
    "        quick_sort_alt(arr,index,right)\n",
    "    \n",
    "    return arr\n",
    "\n",
    "def partition(arr: list, left: int, right: int):\n",
    "    pivot = arr[(right+left)//2]\n",
    "    while left<=right:\n",
    "        # find element on the left that should be on the right -> more like find elemnt at left that is greater than the pivot\n",
    "        while arr[left]<pivot:\n",
    "            left+=1\n",
    "        # find element on the right that should be on the left -> find an element on right that is smaller than the pivot\n",
    "        while arr[right]>pivot:\n",
    "            right-=1\n",
    "        # if indices do not cross, swap the bigger and smaller elements you found above and increment the indices further, you will swap \n",
    "        if left<=right:\n",
    "            temp = arr[right]\n",
    "            arr[right]=arr[left]\n",
    "            arr[left] = temp\n",
    "            left+=1\n",
    "            right-=1\n",
    "    return left\n"
   ]
  },
  {
   "cell_type": "code",
   "execution_count": 298,
   "metadata": {},
   "outputs": [],
   "source": [
    "def binary_search(arr, target):\n",
    "    low = 0\n",
    "    high = len(arr) - 1\n",
    "\n",
    "    while low <= high:\n",
    "        mid = (low + high) // 2\n",
    "        if arr[mid] == target:\n",
    "            return mid\n",
    "        elif arr[mid] < target:\n",
    "            low = mid + 1\n",
    "        else:\n",
    "            high = mid - 1\n",
    "\n",
    "    return -1\n"
   ]
  },
  {
   "cell_type": "code",
   "execution_count": 283,
   "metadata": {},
   "outputs": [
    {
     "data": {
      "text/plain": [
       "[1, 2, 2, 2, 3, 4, 5, 6]"
      ]
     },
     "execution_count": 283,
     "metadata": {},
     "output_type": "execute_result"
    }
   ],
   "source": [
    "bubble_sort([6,2,4,5,1,3,2,2])"
   ]
  },
  {
   "cell_type": "code",
   "execution_count": 284,
   "metadata": {},
   "outputs": [
    {
     "data": {
      "text/plain": [
       "[1, 2, 2, 2, 3, 4, 5, 6]"
      ]
     },
     "execution_count": 284,
     "metadata": {},
     "output_type": "execute_result"
    }
   ],
   "source": [
    "selection_sort([6,2,4,5,1,3,2,2])"
   ]
  },
  {
   "cell_type": "code",
   "execution_count": 285,
   "metadata": {},
   "outputs": [
    {
     "data": {
      "text/plain": [
       "[1, 2, 2, 2, 3, 4, 5, 6]"
      ]
     },
     "execution_count": 285,
     "metadata": {},
     "output_type": "execute_result"
    }
   ],
   "source": [
    "merge_sort([6,2,4,5,1,3,2,2])"
   ]
  },
  {
   "cell_type": "code",
   "execution_count": 296,
   "metadata": {},
   "outputs": [
    {
     "data": {
      "text/plain": [
       "[1, 2, 2, 2, 3, 4, 5, 6]"
      ]
     },
     "execution_count": 296,
     "metadata": {},
     "output_type": "execute_result"
    }
   ],
   "source": [
    "quick_sort([6,2,4,5,1,3,2,2])"
   ]
  },
  {
   "cell_type": "code",
   "execution_count": 302,
   "metadata": {},
   "outputs": [
    {
     "data": {
      "text/plain": [
       "[1, 2, 2, 2, 3, 4, 5, 6]"
      ]
     },
     "execution_count": 302,
     "metadata": {},
     "output_type": "execute_result"
    }
   ],
   "source": [
    "quick_sort_alt([6,2,4,5,1,3,2,2],left=0,right=len([6,2,4,5,1,3,2,2])-1)"
   ]
  },
  {
   "cell_type": "markdown",
   "metadata": {},
   "source": [
    "---"
   ]
  },
  {
   "cell_type": "markdown",
   "metadata": {},
   "source": [
    "#### Section 11: Testing\n",
    "\n",
    "1. Testing a real world object (e.g. a pen)\n",
    "2. Testing a piece of software\n",
    "3. Write test code for a function.\n",
    "4. Troubleshoot an existing issue.\n",
    "\n",
    "Expect the user and input to cause challenges.    \n",
    "\n",
    "Interviewer looking for\n",
    "\n",
    "- Need a reasonable list of test cases, but need additional things\n",
    "- Big Picture Understanding: what the software is really about, prioritize test cases\n",
    "- Knowing how the pieces fit together: how software works and how it fits in to a greater ecosystem by integrating within other components\n",
    "- Organization: approach the problem in a structured manner, break down parts into categories\n",
    "- Practicality: reasonable testing plans, not too demanding, not too quick\n",
    "\n",
    "Testing a Real World Object\n",
    "\n",
    "- Step 1: Who will use it? and why? Think of all potential use cases\n",
    "- Step 2: What are the use cases? List of use cases, send and receive content\n",
    "- Step 3: What are the bounds of use? how much or how little, extremes of use, environmentsl factors (temperature)\n",
    "- Step 4: What are the stress/failure conditions? discuss when its acceptable or necessary for the product to fail and what failure should mean (avert danger)\n",
    "- Step 5: How would you perform the testing? may also be relevant to discuss the details of testing. Use machine to simulate usage on a product\n",
    "\n",
    "\n",
    "Testing a Piece of Software\n",
    "\n",
    "Similar to the above, however, software testing places greater emphasis on the details of performing testing.\n",
    "\n",
    "Two Core aspects\n",
    "- Manual vs. Automated testing: some aspects are better to test manually due to their qualitative nature relative to what a computer is capable of. Humans can detect things beyond what a computer is looking for. Both humans and computers are essential to testing.\n",
    "- Black Box testing vs. White Box testing:\n",
    "    - Blaxk-Box: given the software as is and need to test it\n",
    "    - White-Box: additional programmatic access to test individual functions\n",
    "\n",
    "\n",
    "- Step 1: Are we doing Black Box or White Box testing? Check with the interviewer if you are doing black-box or white box testing, or both.\n",
    "- Step 2: Who will use it? and why? one or more taregt users, features are designed with this in mind. May have \"guests,\" or additional users who are affected by the design.\n",
    "- Step 3: What are the use cases? installing, updating, removing, personal use for different groups/users, converse with the interviewer\n",
    "- Step 4: What are the bounds of use? dig deeper on the use cases, specifics of cases, automated updates/learning from the software\n",
    "- Step 5: What are the stress conditions / failure conditions? what failure will look like (should not crash the computer), could be a false negative/positive, possible temporary solutions\n",
    "- Step 6: What are the test cases? How would you perform the test cases? further define use cases and discuss how to perform the testing (situations to test, automated, manual), approach in a structured manner, break down in main components then go from there (complete list of test cases, structured methodical way)\n",
    "\n",
    "Testing a Function\n",
    "\n",
    "Typically limited to validating input and output. Ask interviewer about assumptions with respect to how to handle specific situations.\n",
    "\n",
    "- Step 1: Define the test cases. Clarify any constraints with the interviewer before beginning. \n",
    "    - Normal Case: Correct output for typical inputs. Consider potential issues here.\n",
    "    - Extreme: consider edge cases\n",
    "    - Nulls and illegal input: None/negative values etc.\n",
    "    - Strange input: other potential cases.\n",
    "- Step 2: Define the expected result\n",
    "    - validate additional aspects.\n",
    "- Step 3: Write test code\n",
    "    - Print relevant information\n",
    "\n",
    "\n",
    "Troubleshooting Questions\n",
    "\n",
    "How to debug or troubleshoot an existing issue.\n",
    "\n",
    "- Step 1: Understand the Scenario\n",
    "    - Ask questions to understand\n",
    "    - How long has the user been experiencing this issue?\n",
    "    - What version of the software is it? What operating system?\n",
    "    - With what frequency does this issue occur? When does it happen?\n",
    "    - Is there an error report that launches?\n",
    "- Step 2: Break down the problem\n",
    "    - Testable units based on the details you dicovered\n",
    "    - Go through the flow of the situation listing each step\n",
    "    - Strong tester iterates through the elements of this scenario to diagnose the problem\n",
    "- Step 3: Create Specific , Manageable tests\n",
    "    - Each of the components listed should have realistic instructions: things to ask the user to do or things to do yourself (replicating on your own machine)\n",
    "\n"
   ]
  },
  {
   "cell_type": "markdown",
   "metadata": {},
   "source": [
    "---"
   ]
  },
  {
   "cell_type": "markdown",
   "metadata": {},
   "source": [
    "### III. Knowledge Based"
   ]
  },
  {
   "cell_type": "markdown",
   "metadata": {},
   "source": [
    "## Chapter 11: Advanced Topics"
   ]
  },
  {
   "cell_type": "markdown",
   "metadata": {},
   "source": []
  }
 ],
 "metadata": {
  "kernelspec": {
   "display_name": "base",
   "language": "python",
   "name": "python3"
  },
  "language_info": {
   "codemirror_mode": {
    "name": "ipython",
    "version": 3
   },
   "file_extension": ".py",
   "mimetype": "text/x-python",
   "name": "python",
   "nbconvert_exporter": "python",
   "pygments_lexer": "ipython3",
   "version": "3.12.7"
  }
 },
 "nbformat": 4,
 "nbformat_minor": 2
}
